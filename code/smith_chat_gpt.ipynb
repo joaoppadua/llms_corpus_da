{
 "cells": [
  {
   "cell_type": "code",
   "execution_count": 12,
   "metadata": {},
   "outputs": [],
   "source": [
    "import os\n",
    "from openai import OpenAI\n",
    "from credentials import get_credentials_openai\n",
    "from pprint import pprint"
   ]
  },
  {
   "cell_type": "code",
   "execution_count": 3,
   "metadata": {},
   "outputs": [],
   "source": [
    "key, project_id = get_credentials_openai()\n",
    "client = OpenAI(api_key=key, project=project_id)"
   ]
  },
  {
   "cell_type": "code",
   "execution_count": 4,
   "metadata": {},
   "outputs": [],
   "source": [
    "def get_completion(prompt, model='gpt-4-turbo', temperature=1, max_tokens=1000):\n",
    "    '''Generates a completion for a given prompt using the OpenAI API.\n",
    "    prompt: str\n",
    "    model: str, optional\n",
    "    temperature: float, optional\n",
    "    max_tokens: int, optional\n",
    "    returns: str'''\n",
    "    completion = client.chat.completions.create(messages=[\n",
    "            {\"role\": \"system\", \"content\": \"you are a regular natural language user\"},\n",
    "            {\"role\": \"user\", \"content\": prompt}],\n",
    "            model=model, temperature=temperature, max_tokens=max_tokens)\n",
    "    return completion.choices[0].message.content"
   ]
  },
  {
   "cell_type": "code",
   "execution_count": 5,
   "metadata": {},
   "outputs": [],
   "source": [
    "#Creat a path to access the data\n",
    "DATAPATH = os.path.join('..', 'data')"
   ]
  },
  {
   "cell_type": "code",
   "execution_count": 6,
   "metadata": {},
   "outputs": [],
   "source": [
    "#Read the statute\n",
    "with open(os.path.join(DATAPATH, '18USC924c1.txt'), 'r') as f:\n",
    "    statute = f.read()"
   ]
  },
  {
   "cell_type": "code",
   "execution_count": 7,
   "metadata": {},
   "outputs": [],
   "source": [
    "#Case summary from the majority opinion in Smith v. United States\n",
    "with open(os.path.join(DATAPATH, 'smith_case_summary.txt'), 'r') as f:\n",
    "    case_summary = f.read()"
   ]
  },
  {
   "cell_type": "code",
   "execution_count": 16,
   "metadata": {},
   "outputs": [],
   "source": [
    "prompt = f''''\n",
    "Read the following statute: {statute}.\n",
    "Now, read the following case summary: {case_summary}.\n",
    "Based on this case, would you say that a reasonable person would consider that Mr. Smith _used_ \n",
    "his gun in the sense that the language of the statute requires? \n",
    "Answer in the format:\n",
    "ANSWER: Your answer (yes or no) \n",
    "REASONING: Your reasoning.\n",
    "Use markdown to format your answer.\n",
    "'''"
   ]
  },
  {
   "cell_type": "code",
   "execution_count": 9,
   "metadata": {},
   "outputs": [],
   "source": [
    "#Completion with prompt and summary from SCOTUS\n",
    "first_try = get_completion(prompt)"
   ]
  },
  {
   "cell_type": "code",
   "execution_count": 13,
   "metadata": {},
   "outputs": [
    {
     "name": "stdout",
     "output_type": "stream",
     "text": [
      "('ANSWER: Yes\\n'\n",
      " '\\n'\n",
      " 'REASONING: According to the statute, a firearm is considered \"used\" during a '\n",
      " 'crime of violence or drug trafficking if it contributes in any way to the '\n",
      " 'criminal activity. In the case of John Angus Smith, he explicitly employed '\n",
      " 'the MAC-10 firearm as part of a drug trafficking negotiation. Smith not only '\n",
      " 'brought the firearm to the meeting but also introduced and presented it as a '\n",
      " 'bargaining chip to trade for cocaine. This act of showcasing and offering '\n",
      " 'the firearm in exchange for drugs encapsulates the statutory definition of '\n",
      " '\"using\" a firearm during a drug trafficking crime. The firearm was central '\n",
      " 'to the negotiation and intended trade, hence making it integral to the '\n",
      " 'criminal act itself, aligning with the requirements specified in the statute '\n",
      " 'for using a firearm during the commission of such a crime.')\n"
     ]
    }
   ],
   "source": [
    "pprint(first_try)"
   ]
  },
  {
   "cell_type": "code",
   "execution_count": 15,
   "metadata": {},
   "outputs": [],
   "source": [
    "#Case summary from Gries and Slocum paper\n",
    "case_summary = '''\n",
    "John Angus Smith offered to trade an automatic weapon to an undercover officer for cocaine.\n",
    "'''"
   ]
  },
  {
   "cell_type": "code",
   "execution_count": 17,
   "metadata": {},
   "outputs": [],
   "source": [
    "#Completion from prompt with case summary from Gries and Slocum paper\n",
    "second_try = get_completion(prompt)"
   ]
  },
  {
   "cell_type": "code",
   "execution_count": 18,
   "metadata": {},
   "outputs": [
    {
     "name": "stdout",
     "output_type": "stream",
     "text": [
      "('ANSWER: Yes  \\n'\n",
      " 'REASONING:  \\n'\n",
      " 'The statute specifies that anyone who _uses or carries a firearm_ during and '\n",
      " 'in relation to any crime of violence or drug trafficking crime shall be '\n",
      " 'subject to additional penalties. In the case of John Angus Smith, he offered '\n",
      " 'to trade an automatic weapon for cocaine to an undercover officer. This '\n",
      " 'action demonstrates a use of the firearm during and in relation to a drug '\n",
      " 'trafficking crime, as the firearm was instrumental in facilitating the '\n",
      " 'illegal drug transaction. Although the weapon was not employed in a '\n",
      " 'traditional violent manner, such as discharging it, the act of offering it '\n",
      " 'as a trade item in a drug transaction qualifies as \"using\" the firearm '\n",
      " 'within the context of the statute. This is because the weapon was clearly an '\n",
      " 'integral part of the criminal act and served a purpose in the drug '\n",
      " 'trafficking activity. Hence, this satisfies the requirement of the statute '\n",
      " 'that the firearm must be used or carried during and in relation to the drug '\n",
      " 'trafficking crime.')\n"
     ]
    }
   ],
   "source": [
    "pprint(second_try)"
   ]
  },
  {
   "cell_type": "code",
   "execution_count": 20,
   "metadata": {},
   "outputs": [],
   "source": [
    "#Varying the temperature\n",
    "answers = dict()\n",
    "for temp in [0.5, 1, 1.5]:\n",
    "    answers[f'completion_temp_{temp}'] = get_completion(prompt, temperature=temp)\n",
    "\n"
   ]
  },
  {
   "cell_type": "code",
   "execution_count": 22,
   "metadata": {},
   "outputs": [
    {
     "name": "stdout",
     "output_type": "stream",
     "text": [
      "Here is the completion with temperature completion_temp_0.5:\n",
      "('ANSWER: Yes  \\n'\n",
      " 'REASONING:  \\n'\n",
      " 'The statute specifies that any person who \"uses or carries a firearm\" during '\n",
      " 'and in relation to any drug trafficking crime shall be subject to additional '\n",
      " 'imprisonment. In the case of John Angus Smith, offering to trade an '\n",
      " 'automatic weapon to an undercover officer for cocaine constitutes using the '\n",
      " 'firearm in relation to a drug trafficking crime. The act of offering the '\n",
      " 'firearm as part of a transaction for illegal drugs falls under the usage of '\n",
      " 'the firearm in furtherance of committing the drug trafficking crime. '\n",
      " 'Therefore, a reasonable person would consider that Mr. Smith used his gun in '\n",
      " 'the sense required by the language of the statute.')\n",
      "\n",
      "##############################################\n",
      "\n",
      "Here is the completion with temperature completion_temp_1:\n",
      "('ANSWER: Yes\\n'\n",
      " '\\n'\n",
      " 'REASONING:\\n'\n",
      " 'The statute specifies that any use or carrying of a firearm in relation to a '\n",
      " 'drug trafficking crime leads to additional penalties. In this scenario, John '\n",
      " \"Angus Smith's act of offering an automatic weapon as a trade for cocaine \"\n",
      " 'directly relates his firearm to a drug trafficking transaction. Thus, the '\n",
      " 'firearm was used as a means to facilitate the drug deal, fitting the '\n",
      " \"statute's criteria for using a firearm in relation to a drug trafficking \"\n",
      " 'crime. The law does not require the firearm to be used as a weapon in the '\n",
      " 'traditional sense (e.g., for intimidation or violence) to meet the '\n",
      " 'definition of \"use\" in this context; its use as an item of barter in the '\n",
      " 'crime suffices.')\n",
      "\n",
      "##############################################\n",
      "\n",
      "Here is the completion with temperature completion_temp_1.5:\n",
      "('**ANSWER:** Yes\\n'\n",
      " '\\n'\n",
      " '**REASONING:** According to the statute provided, the verb \"uses\" in the '\n",
      " 'context of firearm-related activity during a drug trafficking crime includes '\n",
      " 'instances that could potentially enhance the severity or impact of a crime, '\n",
      " 'even if not physically discharged. The act of offering an automatic weapon '\n",
      " 'in exchange for cocaine clearly associates the firearm explicitly and '\n",
      " 'actively with the commission of the drug trafficking crime. Therefore, a '\n",
      " 'reasonable person would interpret this as using the firearm within the '\n",
      " 'meaning of the statute, standing not alone as mere possession, but '\n",
      " 'proferring actively as barter facilitates the underlying illegal crime, '\n",
      " 'enhancing its potential execution and efficacy. Hence, within this result '\n",
      " 'manner, John Smith \"used\" the firearms as legally defined.')\n",
      "\n",
      "##############################################\n",
      "\n"
     ]
    }
   ],
   "source": [
    "for key, value in answers.items():\n",
    "    print(f'Here is the completion with temperature {key}:')\n",
    "    pprint(value)\n",
    "    print('\\n##############################################\\n')"
   ]
  },
  {
   "cell_type": "code",
   "execution_count": 24,
   "metadata": {},
   "outputs": [
    {
     "name": "stdout",
     "output_type": "stream",
     "text": [
      "ANSWER: Yes\n",
      "\n",
      "REASONING:\n",
      "The statute specifies that any use or carrying of a firearm in relation to a drug trafficking crime leads to additional penalties. In this scenario, John Angus Smith's act of offering an automatic weapon as a trade for cocaine directly relates his firearm to a drug trafficking transaction. Thus, the firearm was used as a means to facilitate the drug deal, fitting the statute's criteria for using a firearm in relation to a drug trafficking crime. The law does not require the firearm to be used as a weapon in the traditional sense (e.g., for intimidation or violence) to meet the definition of \"use\" in this context; its use as an item of barter in the crime suffices.\n"
     ]
    }
   ],
   "source": [
    "print(answers['completion_temp_1'])"
   ]
  },
  {
   "cell_type": "markdown",
   "metadata": {},
   "source": [
    "### All responses from GPT-4 Turbo agree with majority opinion from SCOTUS\n",
    "\n",
    "Most interesting is this one, with standard tempreature (1.0), because it specifically deals with the question of *using* the gun as *barter*:\n",
    "\n",
    "**ANSWER:** \n",
    "Yes \n",
    "\n",
    "**REASONING:**  \n",
    "The statute specifies that any use or carrying of a firearm in relation to a drug trafficking crime leads to additional penalties. In this scenario, John Angus Smith's act of offering an automatic weapon as a trade for cocaine directly relates his firearm to a drug trafficking transaction. Thus, the firearm was used as a means to facilitate the drug deal, fitting the statute's criteria for using a firearm in relation to a drug trafficking crime. The law does not require the firearm to be used as a weapon in the traditional sense (e.g., for intimidation or violence) to meet the definition of \"use\" in this context; its use as an item of ***barter*** in the crime suffices."
   ]
  }
 ],
 "metadata": {
  "kernelspec": {
   "display_name": "llms_da",
   "language": "python",
   "name": "python3"
  },
  "language_info": {
   "codemirror_mode": {
    "name": "ipython",
    "version": 3
   },
   "file_extension": ".py",
   "mimetype": "text/x-python",
   "name": "python",
   "nbconvert_exporter": "python",
   "pygments_lexer": "ipython3",
   "version": "3.11.9"
  }
 },
 "nbformat": 4,
 "nbformat_minor": 2
}
