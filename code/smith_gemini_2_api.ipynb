{
 "cells": [
  {
   "cell_type": "code",
   "execution_count": 1,
   "metadata": {},
   "outputs": [
    {
     "name": "stdout",
     "output_type": "stream",
     "text": [
      "Note: you may need to restart the kernel to use updated packages.\n"
     ]
    }
   ],
   "source": [
    "pip install -U -q google-generativeai"
   ]
  },
  {
   "cell_type": "code",
   "execution_count": 2,
   "metadata": {},
   "outputs": [
    {
     "name": "stderr",
     "output_type": "stream",
     "text": [
      "/Users/joaopedropadua/anaconda3/envs/llms_da/lib/python3.11/site-packages/tqdm/auto.py:21: TqdmWarning: IProgress not found. Please update jupyter and ipywidgets. See https://ipywidgets.readthedocs.io/en/stable/user_install.html\n",
      "  from .autonotebook import tqdm as notebook_tqdm\n"
     ]
    },
    {
     "name": "stdout",
     "output_type": "stream",
     "text": [
      "Intel MKL WARNING: Support of Intel(R) Streaming SIMD Extensions 4.2 (Intel(R) SSE4.2) enabled only processors has been deprecated. Intel oneAPI Math Kernel Library 2025.0 will require Intel(R) Advanced Vector Extensions (Intel(R) AVX) instructions.\n",
      "Intel MKL WARNING: Support of Intel(R) Streaming SIMD Extensions 4.2 (Intel(R) SSE4.2) enabled only processors has been deprecated. Intel oneAPI Math Kernel Library 2025.0 will require Intel(R) Advanced Vector Extensions (Intel(R) AVX) instructions.\n"
     ]
    }
   ],
   "source": [
    "import os\n",
    "from credentials import get_credentials_gemini\n",
    "import google.generativeai as genai\n",
    "from IPython.display import display, Markdown\n",
    "import pandas as pd"
   ]
  },
  {
   "cell_type": "code",
   "execution_count": 3,
   "metadata": {},
   "outputs": [],
   "source": [
    "API_KEY = get_credentials_gemini()\n",
    "genai.configure(api_key=API_KEY)"
   ]
  },
  {
   "cell_type": "code",
   "execution_count": 4,
   "metadata": {},
   "outputs": [],
   "source": [
    "def get_completion(prompt: str, model: str = \"gemini-2.0-flash-exp\") -> str:\n",
    "    '''\n",
    "    Generate a completion for a given prompt using the Gemini API\n",
    "    Args:\n",
    "        prompt: The prompt to generate a completion for\n",
    "        model: The model to use for the completion\n",
    "    Returns:\n",
    "        The completion for the prompt\n",
    "    '''\n",
    "    model = genai.GenerativeModel(model)\n",
    "    response = model.generate_content(prompt)\n",
    "    return response.text\n",
    "\n"
   ]
  },
  {
   "cell_type": "code",
   "execution_count": 6,
   "metadata": {},
   "outputs": [],
   "source": [
    "#Creat a path to access the data\n",
    "DATAPATH = os.path.join('..', 'data')\n",
    "\n",
    "#Read the statute and case summary\n",
    "statute = open(os.path.join(DATAPATH, '18USC924c1.txt'), 'r').read()\n",
    "case_summary = open(os.path.join(DATAPATH, 'smith_case_summary.txt'), 'r').read()\n"
   ]
  },
  {
   "cell_type": "code",
   "execution_count": 7,
   "metadata": {},
   "outputs": [],
   "source": [
    "prompt = f'''\n",
    "You are asked to consider a legal scenario from the perspective of an ordinary person, not a legal expert. Your task is to read a statute and a case summary, then decide whether the actions described constitute 'use' of a gun as defined by the statute.\n",
    "\n",
    "First, please read the following statute:\n",
    "\n",
    "<statute>\n",
    "{statute}\n",
    "</statute>\n",
    "\n",
    "Now, read the following case summary:\n",
    "\n",
    "<case_summary>\n",
    "{case_summary}\n",
    "</case_summary>\n",
    "\n",
    "Before providing your final answer, please analyze the situation in detail inside <legal_interpretation> tags. Consider the facts of the case and how they relate to the language of the statute. Remember, you're approaching this as an average person, not a legal professional.\n",
    "\n",
    "In your analysis, include the following:\n",
    "1. Quote the relevant parts of the statute that define 'use' of a gun.\n",
    "2. List the key actions Mr. Smith took with the gun, according to the case summary. Number each action.\n",
    "3. Explain how an ordinary person might interpret these actions in relation to the statute.\n",
    "4. Identify any aspects of the case that might influence your interpretation.\n",
    "5. Present arguments for and against considering Mr. Smith's actions as 'use' of the gun.\n",
    "6. Form your opinion on whether a reasonable person would consider that Mr. Smith 'used' his gun in the sense that the language of the statute requires.\n",
    "\n",
    "Based on your analysis, please provide your answer in the following format:\n",
    "\n",
    "ANSWER: [Your answer (yes or no)]\n",
    "REASONING: [Your reasoning, explained in simple terms that an average person would use]\n",
    "\n",
    "Please provide your response now.\n",
    "'''"
   ]
  },
  {
   "cell_type": "code",
   "execution_count": 14,
   "metadata": {},
   "outputs": [],
   "source": [
    "response = get_completion(prompt)"
   ]
  },
  {
   "cell_type": "code",
   "execution_count": 15,
   "metadata": {},
   "outputs": [
    {
     "data": {
      "text/markdown": [
       "<legal_interpretation>\n",
       "1. The relevant part of the statute is: \"Whoever, during and in relation to any crime of violence or drug trafficking crime...uses or carries a firearm...\" So the key word here is \"uses\".\n",
       "\n",
       "2. Key actions Mr. Smith took with the gun:\n",
       "    1. Discussed the gun with a drug dealer, mentioning its automatic capabilities.\n",
       "    2. Offered to sell the gun to the dealer if another deal fell through.\n",
       "    3. Showed the gun to an undercover officer.\n",
       "    4. Offered to trade the gun for cocaine.\n",
       "\n",
       "3. An ordinary person might interpret 'uses' to mean physically firing or pointing the gun, perhaps using it to threaten someone, or actually using it in the act of committing the crime. Based on these actions, it feels like Smith is *trying* to get involved in drug trafficking using the gun as a bargaining chip. He's not using it to commit a robbery, but he's using it as an object for his business. He’s not physically using it to harm anyone, yet he’s actively employing it in his drug dealing plan.\n",
       "\n",
       "4. Aspects that might influence my interpretation:\n",
       "    * The gun was not actually fired or even pointed at anyone.\n",
       "    * Smith did not complete a drug deal with the gun.\n",
       "    * He was only \"showing\" it to the undercover officer and offering it for trade.\n",
       "    * The gun was clearly intended as an item for exchange in a drug deal.\n",
       "\n",
       "5. Arguments for considering the actions as 'use':\n",
       "    * The statute is designed to punish those who involve guns in drug trafficking. By trying to trade his MAC-10 for cocaine, Smith was actively doing this, even if no trade happened. He is leveraging the power and allure of the weapon to further his drug deal, like a dangerous bargaining chip.\n",
       "    * Using the gun as an offer/trade is a business transaction directly tied to drug trafficking. He's not just carrying it around; it's part of the process.\n",
       "\n",
       "    Arguments against considering the actions as 'use':\n",
       "    * Simply having a gun while involved in drug deals doesn’t seem like \"use.\" Showing it to someone and trying to trade it seems like possession or offering, not necessarily active use.\n",
       "    * An ordinary person might think \"use\" means something more direct, like firing the gun or threatening someone.\n",
       "    *The gun was not directly employed to facilitate the purchase or sale of drugs, it was offered as an alternative in lieu of cash.\n",
       "\n",
       "6.  A reasonable person, considering all of this, would likely think that Mr. Smith’s actions, even though not directly involving firing the weapon, was “use” in the sense that it was employed as part of a drug trafficking activity. It's not a passive act; it's an active step in his plans.\n",
       "\n",
       "</legal_interpretation>\n",
       "ANSWER: yes\n",
       "REASONING: Even though Smith didn't shoot the gun, he was using it as a valuable item to trade for drugs. It was an active part of his plan to buy and sell cocaine. He's treating it as currency, which, in his context, is clearly part of drug dealing. It's not just possession; it's him intentionally leveraging the gun to get what he wants. A regular person would probably see this as \"using\" the gun in a very specific (and illegal) way.\n"
      ],
      "text/plain": [
       "<IPython.core.display.Markdown object>"
      ]
     },
     "metadata": {},
     "output_type": "display_data"
    }
   ],
   "source": [
    "display(Markdown(response))"
   ]
  },
  {
   "cell_type": "code",
   "execution_count": 10,
   "metadata": {},
   "outputs": [],
   "source": [
    "#Create a prompt with only answer and reasoning\n",
    "new_prompt = f'''\n",
    "You are asked to consider a legal scenario from the perspective of an ordinary person, not a legal expert. Your task is to read a statute and a case summary, then decide whether the actions described constitute 'use' of a gun as defined by the statute.\n",
    "\n",
    "First, please read the following statute:\n",
    "\n",
    "<statute>\n",
    "{statute}\n",
    "</statute>\n",
    "\n",
    "Now, read the following case summary:\n",
    "\n",
    "<case_summary>\n",
    "{case_summary}\n",
    "</case_summary>\n",
    "\n",
    "Before providing your final answer, please analyze the situation in detail. Consider the facts of the case and how they relate to the language of the statute. Remember, you're approaching this as an average person, not a legal professional.\n",
    "\n",
    "Specifically, consider the following (but DO NOT include them in your response):\n",
    "1. The relevant parts of the statute that define 'use' of a gun.\n",
    "2. The key actions Mr. Smith took with the gun, according to the case summary. Number each action.\n",
    "3. How an ordinary person might interpret these actions in relation to the statute.\n",
    "4. Any aspects of the case that might influence your interpretation.\n",
    "5. Arguments for and against considering Mr. Smith's actions as 'use' of the gun.\n",
    "6. Your opinion on whether a reasonable person would consider that Mr. Smith 'used' his gun in the sense that the language of the statute requires.\n",
    "\n",
    "Based on your analysis, please provide your answer in the following format:\n",
    "\n",
    "ANSWER: [Your answer (yes or no)]\n",
    "REASONING: [Your reasoning, explained in simple terms that an average person would use]\n",
    "\n",
    "Please provide your response now.\n",
    "'''\n"
   ]
  },
  {
   "cell_type": "code",
   "execution_count": 12,
   "metadata": {},
   "outputs": [
    {
     "data": {
      "text/markdown": [
       "ANSWER: Yes\n",
       "REASONING: Okay, so the law says if you \"use\" a gun during a drug crime, you get extra jail time. Mr. Smith was in Florida trying to buy and sell cocaine, which is a drug crime. He pulled out his machine gun, showed it off, and offered to trade it for more drugs. To me, that's using the gun. He didn't just have it tucked away. He was using it as part of a deal to get more drugs. It's like he was using the gun as a bargaining chip, a tool of his trade. Even though he didn't shoot it, showing it to get something he wants is a clear \"use\" in my book. It's not like he just had it sitting in a closet; he was actively involving it in his illegal drug scheme.\n"
      ],
      "text/plain": [
       "<IPython.core.display.Markdown object>"
      ]
     },
     "metadata": {},
     "output_type": "display_data"
    }
   ],
   "source": [
    "test_response = get_completion(new_prompt)\n",
    "display(Markdown(test_response))"
   ]
  },
  {
   "cell_type": "code",
   "execution_count": 13,
   "metadata": {},
   "outputs": [
    {
     "name": "stdout",
     "output_type": "stream",
     "text": [
      "DataFrame Structure:\n"
     ]
    },
    {
     "data": {
      "text/html": [
       "<div>\n",
       "<style scoped>\n",
       "    .dataframe tbody tr th:only-of-type {\n",
       "        vertical-align: middle;\n",
       "    }\n",
       "\n",
       "    .dataframe tbody tr th {\n",
       "        vertical-align: top;\n",
       "    }\n",
       "\n",
       "    .dataframe thead th {\n",
       "        text-align: right;\n",
       "    }\n",
       "</style>\n",
       "<table border=\"1\" class=\"dataframe\">\n",
       "  <thead>\n",
       "    <tr style=\"text-align: right;\">\n",
       "      <th></th>\n",
       "      <th>response</th>\n",
       "      <th>answer</th>\n",
       "      <th>reasoning</th>\n",
       "    </tr>\n",
       "  </thead>\n",
       "  <tbody>\n",
       "    <tr>\n",
       "      <th>0</th>\n",
       "      <td>ANSWER: Yes\\nREASONING: Okay, so the law says ...</td>\n",
       "      <td>Yes</td>\n",
       "      <td>Okay, so the law says if you \"use\" a gun durin...</td>\n",
       "    </tr>\n",
       "    <tr>\n",
       "      <th>1</th>\n",
       "      <td>ANSWER: Yes\\nREASONING: Okay, so basically, th...</td>\n",
       "      <td>Yes</td>\n",
       "      <td>Okay, so basically, the law says if you \"use\" ...</td>\n",
       "    </tr>\n",
       "    <tr>\n",
       "      <th>2</th>\n",
       "      <td>ANSWER: Yes\\nREASONING: Okay, so this law says...</td>\n",
       "      <td>Yes</td>\n",
       "      <td>Okay, so this law says that if you \"use\" a gun...</td>\n",
       "    </tr>\n",
       "  </tbody>\n",
       "</table>\n",
       "</div>"
      ],
      "text/plain": [
       "                                            response answer  \\\n",
       "0  ANSWER: Yes\\nREASONING: Okay, so the law says ...    Yes   \n",
       "1  ANSWER: Yes\\nREASONING: Okay, so basically, th...    Yes   \n",
       "2  ANSWER: Yes\\nREASONING: Okay, so this law says...    Yes   \n",
       "\n",
       "                                           reasoning  \n",
       "0  Okay, so the law says if you \"use\" a gun durin...  \n",
       "1  Okay, so basically, the law says if you \"use\" ...  \n",
       "2  Okay, so this law says that if you \"use\" a gun...  "
      ]
     },
     "metadata": {},
     "output_type": "display_data"
    },
    {
     "name": "stdout",
     "output_type": "stream",
     "text": [
      "\n",
      "Detailed View of Each Response:\n",
      "\n",
      "Test 1:\n",
      "Raw Response: ANSWER: Yes\n",
      "REASONING: Okay, so the law says if you \"use\" a gun during a drug crime you get extra prison time. This guy, Mr. Smith, was definitely trying to do a drug deal. He didn't just have the gun; he pulled it out and offered it as payment for drugs. That feels like he was using it. He wasn't just carrying it around or having it in his room, he was showing it to someone and trying to get cocaine in exchange. To me, that’s “use.” It's like using a credit card to buy something, just instead of money, he was trying to use the gun to get drugs. It might not be shooting it, but it definitely isn't just sitting there. It was a key part of the drug transaction he was trying to make.\n",
      "\n",
      "Extracted Answer: Yes\n",
      "Extracted Reasoning: Okay, so the law says if you \"use\" a gun during a drug crime you get extra prison time. This guy, Mr. Smith, was definitely trying to do a drug deal. He didn't just have the gun; he pulled it out and offered it as payment for drugs. That feels like he was using it. He wasn't just carrying it around or having it in his room, he was showing it to someone and trying to get cocaine in exchange. To me, that’s “use.” It's like using a credit card to buy something, just instead of money, he was trying to use the gun to get drugs. It might not be shooting it, but it definitely isn't just sitting there. It was a key part of the drug transaction he was trying to make.\n",
      "--------------------------------------------------\n",
      "\n",
      "Test 2:\n",
      "Raw Response: ANSWER: Yes\n",
      "REASONING: Okay, so basically, the law says if you \"use\" a gun while doing drug stuff or a violent crime, you get extra jail time. This guy, Mr. Smith, brought his automatic machine gun to a drug deal. He wasn’t just carrying it around; he showed it off to the drug dealer and the undercover cop. He was even trying to trade the gun for cocaine, like it was a tool or a part of the deal. To me, showing it to people and offering it as part of a drug deal is definitely “using” it, even if he didn’t shoot it. He used it to try to get his hands on drugs, that’s what the law is talking about. It wasn't just nearby, it was directly involved in the crime.\n",
      "\n",
      "Extracted Answer: Yes\n",
      "Extracted Reasoning: Okay, so basically, the law says if you \"use\" a gun while doing drug stuff or a violent crime, you get extra jail time. This guy, Mr. Smith, brought his automatic machine gun to a drug deal. He wasn’t just carrying it around; he showed it off to the drug dealer and the undercover cop. He was even trying to trade the gun for cocaine, like it was a tool or a part of the deal. To me, showing it to people and offering it as part of a drug deal is definitely “using” it, even if he didn’t shoot it. He used it to try to get his hands on drugs, that’s what the law is talking about. It wasn't just nearby, it was directly involved in the crime.\n",
      "--------------------------------------------------\n",
      "\n",
      "Test 3:\n",
      "Raw Response: ANSWER: Yes\n",
      "REASONING: Okay, so this law says that if you \"use\" a gun during a crime, you get extra time in jail. Smith was trying to trade his MAC-10 for drugs. He showed the gun to the undercover cop and offered it in exchange for cocaine. To me, that's definitely \"using\" the gun. He wasn't just carrying it around; he was actively using it as a bargaining chip to get drugs, which is a crime. It's like using a credit card, you’re using the gun as an object to get something else. He’s directly using the gun to further his illegal drug activities, which I think is what the law is trying to stop. He wasn't shooting it, but he wasn't just holding it either – he was using it as part of a deal.\n",
      "\n",
      "Extracted Answer: Yes\n",
      "Extracted Reasoning: Okay, so this law says that if you \"use\" a gun during a crime, you get extra time in jail. Smith was trying to trade his MAC-10 for drugs. He showed the gun to the undercover cop and offered it in exchange for cocaine. To me, that's definitely \"using\" the gun. He wasn't just carrying it around; he was actively using it as a bargaining chip to get drugs, which is a crime. It's like using a credit card, you’re using the gun as an object to get something else. He’s directly using the gun to further his illegal drug activities, which I think is what the law is trying to stop. He wasn't shooting it, but he wasn't just holding it either – he was using it as part of a deal.\n",
      "--------------------------------------------------\n"
     ]
    }
   ],
   "source": [
    "#Test\n",
    "test_responses = []\n",
    "test_answers = []\n",
    "test_reasoning = []\n",
    "\n",
    "for i in range(3):\n",
    "    t_response = get_completion(new_prompt)\n",
    "    test_answers.append(t_response[t_response.find(\"ANSWER:\") + 7:t_response.find(\"REASONING:\")].strip())\n",
    "    test_reasoning.append(t_response[t_response.find(\"REASONING:\") + 10:].strip())\n",
    "    test_responses.append(t_response)\n",
    "\n",
    "\n",
    "# Convert to DataFrame\n",
    "test_df = pd.DataFrame({'response': test_responses, 'answer': test_answers, 'reasoning': test_reasoning})\n",
    "\n",
    "# Display the results\n",
    "print(\"DataFrame Structure:\")\n",
    "display(test_df)\n",
    "\n",
    "print(\"\\nDetailed View of Each Response:\")\n",
    "for i, row in test_df.iterrows():\n",
    "    print(f\"\\nTest {i+1}:\")\n",
    "    print(f\"Raw Response: {row['response']}\")\n",
    "    print(f\"Extracted Answer: {row['answer']}\")\n",
    "    print(f\"Extracted Reasoning: {row['reasoning']}\")\n",
    "    print(\"-\" * 50)"
   ]
  },
  {
   "cell_type": "code",
   "execution_count": 17,
   "metadata": {},
   "outputs": [
    {
     "data": {
      "text/html": [
       "<div>\n",
       "<style scoped>\n",
       "    .dataframe tbody tr th:only-of-type {\n",
       "        vertical-align: middle;\n",
       "    }\n",
       "\n",
       "    .dataframe tbody tr th {\n",
       "        vertical-align: top;\n",
       "    }\n",
       "\n",
       "    .dataframe thead th {\n",
       "        text-align: right;\n",
       "    }\n",
       "</style>\n",
       "<table border=\"1\" class=\"dataframe\">\n",
       "  <thead>\n",
       "    <tr style=\"text-align: right;\">\n",
       "      <th></th>\n",
       "      <th>answer</th>\n",
       "      <th>reasoning</th>\n",
       "    </tr>\n",
       "  </thead>\n",
       "  <tbody>\n",
       "    <tr>\n",
       "      <th>0</th>\n",
       "      <td>Yes</td>\n",
       "      <td>Smith didn't just have the gun with him; he to...</td>\n",
       "    </tr>\n",
       "    <tr>\n",
       "      <th>1</th>\n",
       "      <td>Yes</td>\n",
       "      <td>Smith didn't just have the gun with him. He to...</td>\n",
       "    </tr>\n",
       "    <tr>\n",
       "      <th>2</th>\n",
       "      <td>Yes</td>\n",
       "      <td>Smith didn't just have the gun with him; he to...</td>\n",
       "    </tr>\n",
       "    <tr>\n",
       "      <th>3</th>\n",
       "      <td>Yes</td>\n",
       "      <td>Smith didn't just have the gun with him; he to...</td>\n",
       "    </tr>\n",
       "    <tr>\n",
       "      <th>4</th>\n",
       "      <td>Yes</td>\n",
       "      <td>Smith didn't just have the gun with him; he to...</td>\n",
       "    </tr>\n",
       "  </tbody>\n",
       "</table>\n",
       "</div>"
      ],
      "text/plain": [
       "  answer                                          reasoning\n",
       "0    Yes  Smith didn't just have the gun with him; he to...\n",
       "1    Yes  Smith didn't just have the gun with him. He to...\n",
       "2    Yes  Smith didn't just have the gun with him; he to...\n",
       "3    Yes  Smith didn't just have the gun with him; he to...\n",
       "4    Yes  Smith didn't just have the gun with him; he to..."
      ]
     },
     "metadata": {},
     "output_type": "display_data"
    }
   ],
   "source": [
    "#Create a sample of 100 responses and put them in a Pandas DataFrame\n",
    "# Create empty lists to store answers and reasoning\n",
    "answers = []\n",
    "reasoning = []\n",
    "\n",
    "# Generate 100 responses\n",
    "for i in range(100):\n",
    "    response = get_completion(new_prompt, model='gemini-1.5-pro')\n",
    "    \n",
    "    # Extract answer and reasoning using simple string parsing\n",
    "    # Assuming format is consistent with \"ANSWER:\" and \"REASONING:\" labels\n",
    "    answer_start = response.find(\"ANSWER:\") + 7\n",
    "    reasoning_start = response.find(\"REASONING:\") + 10\n",
    "    \n",
    "    answer = response[answer_start:response.find(\"REASONING:\")].strip()\n",
    "    reason = response[reasoning_start:].strip()\n",
    "    \n",
    "    answers.append(answer)\n",
    "    reasoning.append(reason)\n",
    "\n",
    "# Create DataFrame\n",
    "responses_df = pd.DataFrame({\n",
    "    'answer': answers,\n",
    "    'reasoning': reasoning\n",
    "})\n",
    "\n",
    "# Display first few rows\n",
    "display(responses_df.head())\n"
   ]
  },
  {
   "cell_type": "code",
   "execution_count": 18,
   "metadata": {},
   "outputs": [
    {
     "name": "stdout",
     "output_type": "stream",
     "text": [
      "answer\n",
      "Yes    100\n",
      "Name: count, dtype: int64\n"
     ]
    }
   ],
   "source": [
    "#Count how many \"yes\" and \"no\" answers there are\n",
    "print(responses_df['answer'].value_counts())"
   ]
  },
  {
   "cell_type": "code",
   "execution_count": 19,
   "metadata": {},
   "outputs": [
    {
     "name": "stdout",
     "output_type": "stream",
     "text": [
      "20    Mr. Smith didn't just have the gun with him; h...\n",
      "56    Smith didn't just have the gun with him. He to...\n",
      "29    Mr. Smith didn't just have the gun with him; h...\n",
      "44    Mr. Smith didn't just have the gun with him. H...\n",
      "58    Mr. Smith took the gun out of the bag and show...\n",
      "Name: reasoning, dtype: object\n"
     ]
    }
   ],
   "source": [
    "#print random reasoning from 5 random rows\n",
    "print(responses_df.sample(5)['reasoning'])\n"
   ]
  },
  {
   "cell_type": "code",
   "execution_count": 20,
   "metadata": {},
   "outputs": [],
   "source": [
    "#save the Dataframe to a csv file in the data folder\n",
    "responses_df.to_csv(os.path.join(DATAPATH, 'smith_responses_gemini_api.csv'), index=False)"
   ]
  }
 ],
 "metadata": {
  "kernelspec": {
   "display_name": "llms_da",
   "language": "python",
   "name": "python3"
  },
  "language_info": {
   "codemirror_mode": {
    "name": "ipython",
    "version": 3
   },
   "file_extension": ".py",
   "mimetype": "text/x-python",
   "name": "python",
   "nbconvert_exporter": "python",
   "pygments_lexer": "ipython3",
   "version": "3.11.9"
  }
 },
 "nbformat": 4,
 "nbformat_minor": 2
}
