{
 "cells": [
  {
   "cell_type": "code",
   "execution_count": 1,
   "metadata": {},
   "outputs": [],
   "source": [
    "from mistralai.client import MistralClient\n",
    "from mistralai.models.chat_completion import ChatMessage\n",
    "import os\n",
    "from pprint import pprint\n",
    "from credentials import get_credentials_mistralai\n"
   ]
  },
  {
   "cell_type": "code",
   "execution_count": 2,
   "metadata": {},
   "outputs": [
    {
     "name": "stdout",
     "output_type": "stream",
     "text": [
      "ON2bignH1ckZ97rP7lV6GXNT9sktVYFk\n"
     ]
    }
   ],
   "source": [
    "API_KEY = get_credentials_mistralai()\n",
    "client = MistralClient(api_key=API_KEY)"
   ]
  },
  {
   "cell_type": "code",
   "execution_count": 3,
   "metadata": {},
   "outputs": [],
   "source": [
    "def get_completion(prompt, model='open-mixtral-8x7b', temperature=0.7):\n",
    "    '''Get completion for a prompt from MistralAI API.\n",
    "    prompt: str, the prompt to be completed\n",
    "    model: str, the model to use for completion (optiona)\n",
    "    temperature: float, the temperature to use for completion (optional)\n",
    "    returns: str, the completion\n",
    "'''\n",
    "    messages=[ChatMessage(role=\"system\", content=\"you are a regular natural language user\"),\n",
    "              ChatMessage(role=\"user\", content=prompt)]\n",
    "    completion = client.chat(model=model, messages=messages,\n",
    "            temperature=temperature)\n",
    "    return completion.choices[0].message.content"
   ]
  },
  {
   "cell_type": "code",
   "execution_count": 5,
   "metadata": {},
   "outputs": [],
   "source": [
    "#Creat a path to access the data\n",
    "DATAPATH = os.path.join('..', 'data')"
   ]
  },
  {
   "cell_type": "code",
   "execution_count": 6,
   "metadata": {},
   "outputs": [],
   "source": [
    "#Read the statute\n",
    "with open(os.path.join(DATAPATH, '18USC924c1.txt'), 'r') as f:\n",
    "    statute = f.read()"
   ]
  },
  {
   "cell_type": "code",
   "execution_count": 7,
   "metadata": {},
   "outputs": [],
   "source": [
    "#Case summary from the majority opinion in Smith v. United States\n",
    "with open(os.path.join(DATAPATH, 'smith_case_summary.txt'), 'r') as f:\n",
    "    case_summary = f.read()"
   ]
  },
  {
   "cell_type": "code",
   "execution_count": null,
   "metadata": {},
   "outputs": [],
   "source": [
    "prompt = f''''\n",
    "Read the following statute: {statute}.\n",
    "Now, read the following case summary: {case_summary}.\n",
    "Based on this case, would you say that a reasonable person would consider that Mr. Smith _used_ \n",
    "his gun in the sense that the language of the statute requires? \n",
    "Answer in the format:\n",
    "ANSWER: Your answer (yes or no) \n",
    "REASONING: Your reasoning.\n",
    "Use markdown to format your answer.\n",
    "'''"
   ]
  },
  {
   "cell_type": "code",
   "execution_count": null,
   "metadata": {},
   "outputs": [],
   "source": [
    "#Completion with prompt and summary from SCOTUS\n",
    "first_try = get_completion(prompt)"
   ]
  },
  {
   "cell_type": "code",
   "execution_count": 4,
   "metadata": {},
   "outputs": [
    {
     "name": "stdout",
     "output_type": "stream",
     "text": [
      "('The meaning of life is a philosophical and metaphysical question related to '\n",
      " 'the significance of living or existence in general. Many different people, '\n",
      " 'cultures, and religions have different beliefs about the purpose and meaning '\n",
      " 'of life.\\n'\n",
      " '\\n'\n",
      " 'Some people believe that the meaning of life is to seek happiness, '\n",
      " 'knowledge, and personal fulfillment. Others believe that the meaning of life '\n",
      " 'is to serve a higher power or to follow a set of moral principles. Some '\n",
      " 'people believe that the meaning of life is to contribute to the greater good '\n",
      " 'of society or to the world as a whole.\\n'\n",
      " '\\n'\n",
      " 'Ultimately, the meaning of life is a subjective question, and each '\n",
      " 'individual must find their own answer based on their experiences, beliefs, '\n",
      " 'and values. It is a question that may not have a definitive or universal '\n",
      " 'answer, but exploring it can be a rewarding and enlightening process.')\n"
     ]
    }
   ],
   "source": [
    "test_prompt = \"What is the meaning of life?\"\n",
    "completion = get_completion(test_prompt)\n",
    "pprint(completion)"
   ]
  }
 ],
 "metadata": {
  "kernelspec": {
   "display_name": "llms_da",
   "language": "python",
   "name": "python3"
  },
  "language_info": {
   "codemirror_mode": {
    "name": "ipython",
    "version": 3
   },
   "file_extension": ".py",
   "mimetype": "text/x-python",
   "name": "python",
   "nbconvert_exporter": "python",
   "pygments_lexer": "ipython3",
   "version": "3.11.9"
  }
 },
 "nbformat": 4,
 "nbformat_minor": 2
}
