{
 "cells": [
  {
   "cell_type": "code",
   "execution_count": 1,
   "metadata": {},
   "outputs": [],
   "source": [
    "from mistralai.client import MistralClient\n",
    "from mistralai.models.chat_completion import ChatMessage\n",
    "import os\n",
    "from pprint import pprint\n",
    "from credentials import get_credentials_mistralai\n"
   ]
  },
  {
   "cell_type": "code",
   "execution_count": 25,
   "metadata": {},
   "outputs": [],
   "source": [
    "from IPython.display import display\n",
    "from IPython.display import Markdown\n",
    "import textwrap\n",
    "def to_markdown(text):\n",
    "    text = text.replace('•', ' *')\n",
    "    return Markdown(textwrap.indent(text, '> ', predicate=lambda _: True))"
   ]
  },
  {
   "cell_type": "code",
   "execution_count": 2,
   "metadata": {},
   "outputs": [
    {
     "name": "stdout",
     "output_type": "stream",
     "text": [
      "ON2bignH1ckZ97rP7lV6GXNT9sktVYFk\n"
     ]
    }
   ],
   "source": [
    "API_KEY = get_credentials_mistralai()\n",
    "client = MistralClient(api_key=API_KEY)"
   ]
  },
  {
   "cell_type": "code",
   "execution_count": 3,
   "metadata": {},
   "outputs": [],
   "source": [
    "def get_completion(prompt, model='open-mixtral-8x7b', temperature=0.7):\n",
    "    '''Get completion for a prompt from MistralAI API.\n",
    "    prompt: str, the prompt to be completed\n",
    "    model: str, the model to use for completion (optiona)\n",
    "    temperature: float, the temperature to use for completion (optional)\n",
    "    returns: str, the completion\n",
    "'''\n",
    "    messages=[ChatMessage(role=\"system\", content=\"you are a regular natural language user\"),\n",
    "              ChatMessage(role=\"user\", content=prompt)]\n",
    "    completion = client.chat(model=model, messages=messages,\n",
    "            temperature=temperature)\n",
    "    return completion.choices[0].message.content"
   ]
  },
  {
   "cell_type": "code",
   "execution_count": 5,
   "metadata": {},
   "outputs": [],
   "source": [
    "#Creat a path to access the data\n",
    "DATAPATH = os.path.join('..', 'data')"
   ]
  },
  {
   "cell_type": "code",
   "execution_count": 6,
   "metadata": {},
   "outputs": [],
   "source": [
    "#Read the statute\n",
    "with open(os.path.join(DATAPATH, '18USC924c1.txt'), 'r') as f:\n",
    "    statute = f.read()"
   ]
  },
  {
   "cell_type": "code",
   "execution_count": 7,
   "metadata": {},
   "outputs": [],
   "source": [
    "#Case summary from the majority opinion in Smith v. United States\n",
    "with open(os.path.join(DATAPATH, 'smith_case_summary.txt'), 'r') as f:\n",
    "    case_summary = f.read()"
   ]
  },
  {
   "cell_type": "code",
   "execution_count": 15,
   "metadata": {},
   "outputs": [],
   "source": [
    "prompt = f''''\n",
    "Read the following statute: {statute}.\n",
    "Now, read the following case summary: {case_summary}.\n",
    "Based on this case, would you say that a reasonable person would consider that Mr. Smith _used_ \n",
    "his gun in the sense that the language of the statute requires? \n",
    "Answer in the format:\n",
    "ANSWER: Your answer (yes or no) \n",
    "REASONING: Your reasoning.\n",
    "Use markdown to format your answer.\n",
    "'''"
   ]
  },
  {
   "cell_type": "code",
   "execution_count": 9,
   "metadata": {},
   "outputs": [],
   "source": [
    "#Completion with prompt and summary from SCOTUS\n",
    "first_try = get_completion(prompt)"
   ]
  },
  {
   "cell_type": "code",
   "execution_count": 26,
   "metadata": {},
   "outputs": [
    {
     "data": {
      "text/markdown": [
       "> ANSWER: Yes\n",
       "> \n",
       "> REASONING: A reasonable person would consider that Mr. Smith used his gun in the sense that the language of the statute requires. This is because Mr. Smith displayed the gun to the undercover officer with the intention of trading it for drugs, which shows an active use of the firearm during and in relation to the crime of drug trafficking."
      ],
      "text/plain": [
       "<IPython.core.display.Markdown object>"
      ]
     },
     "execution_count": 26,
     "metadata": {},
     "output_type": "execute_result"
    }
   ],
   "source": [
    "to_markdown(first_try)"
   ]
  },
  {
   "cell_type": "code",
   "execution_count": 11,
   "metadata": {},
   "outputs": [],
   "source": [
    "#Using the largest Mistral model\n",
    "first_try_largest = get_completion(prompt, model='mistral-large-latest')"
   ]
  },
  {
   "cell_type": "code",
   "execution_count": 27,
   "metadata": {},
   "outputs": [
    {
     "data": {
      "text/markdown": [
       "> ANSWER: No\n",
       "> \n",
       "> REASONING: The statute specifies that the use or carrying of a firearm must be \"during and in relation to\" a crime of violence or drug trafficking crime. In this case, while Mr. Smith was indeed involved in a drug trafficking crime, there's no evidence that he used or carried the firearm during or in relation to this crime. The firearm was not used as a tool or weapon in the commission of the drug trafficking crime, nor was it carried on his person during the crime. Instead, it was a separate item that he was attempting to trade for drugs after the initial drug transaction had already taken place. Therefore, a reasonable person might not consider that Mr. Smith \"used\" his gun in the sense that the language of the statute requires."
      ],
      "text/plain": [
       "<IPython.core.display.Markdown object>"
      ]
     },
     "execution_count": 27,
     "metadata": {},
     "output_type": "execute_result"
    }
   ],
   "source": [
    "to_markdown(first_try_largest)"
   ]
  },
  {
   "cell_type": "code",
   "execution_count": 14,
   "metadata": {},
   "outputs": [],
   "source": [
    "#Case summary from Gries and Slocum paper\n",
    "case_summary = '''\n",
    "John Angus Smith offered to trade an automatic weapon to an undercover officer for cocaine.\n",
    "'''"
   ]
  },
  {
   "cell_type": "code",
   "execution_count": 16,
   "metadata": {},
   "outputs": [],
   "source": [
    "#Completion with prompt and summary from Gries and Slocum paper\n",
    "secont_try = get_completion(prompt)"
   ]
  },
  {
   "cell_type": "code",
   "execution_count": 28,
   "metadata": {},
   "outputs": [
    {
     "data": {
      "text/markdown": [
       "> ANSWER: Yes\n",
       "> \n",
       "> REASONING: According to the case summary, John Angus Smith offered to trade an automatic weapon for cocaine with an undercover officer. The language of the statute states that a person \"uses\" a firearm in relation to a drug trafficking crime if they \"use or carry\" a firearm during and in relation to that crime. Here, Smith's offer to trade the automatic weapon for cocaine can be interpreted as \"using\" the firearm in the context of a drug trafficking offense. Therefore, a reasonable person would consider that Mr. Smith used his gun in the sense that the language of the statute requires."
      ],
      "text/plain": [
       "<IPython.core.display.Markdown object>"
      ]
     },
     "execution_count": 28,
     "metadata": {},
     "output_type": "execute_result"
    }
   ],
   "source": [
    "to_markdown(secont_try)"
   ]
  },
  {
   "cell_type": "code",
   "execution_count": 18,
   "metadata": {},
   "outputs": [],
   "source": [
    "#Using the largest Mistral model\n",
    "secont_try_largest = get_completion(prompt, model='mistral-large-latest')"
   ]
  },
  {
   "cell_type": "code",
   "execution_count": 29,
   "metadata": {},
   "outputs": [
    {
     "data": {
      "text/markdown": [
       "> ANSWER: Yes\n",
       "> \n",
       "> REASONING: The statute specifies that anyone who uses or carries a firearm during and in relation to any crime of violence or drug trafficking crime can be sentenced to additional imprisonment. In the case summary, John Angus Smith offered to trade an automatic weapon for cocaine, which is a drug trafficking crime. Although the statute does not explicitly define \"use,\" it can be reasonably inferred that \"use\" encompasses not only the act of firing or brandishing a weapon but also employing it as a means to facilitate a crime. In this case, Mr. Smith used the automatic weapon as a bargaining chip to obtain cocaine, thereby using it in relation to a drug trafficking crime. Therefore, a reasonable person would consider that Mr. Smith used his gun in the sense that the language of the statute requires."
      ],
      "text/plain": [
       "<IPython.core.display.Markdown object>"
      ]
     },
     "execution_count": 29,
     "metadata": {},
     "output_type": "execute_result"
    }
   ],
   "source": [
    "to_markdown(secont_try_largest)"
   ]
  },
  {
   "cell_type": "code",
   "execution_count": 20,
   "metadata": {},
   "outputs": [],
   "source": [
    "#Varying the temperature (in the largest model)\n",
    "answers = dict()\n",
    "for temp in [0.3, 0.7, 1]:\n",
    "    answers[f'completion_temp_{temp}'] = get_completion(prompt, model='mistral-large-latest', temperature=temp)"
   ]
  },
  {
   "cell_type": "code",
   "execution_count": 21,
   "metadata": {},
   "outputs": [
    {
     "name": "stdout",
     "output_type": "stream",
     "text": [
      "Here is the completion with temperature completion_temp_0.3:\n",
      "('ANSWER: Yes\\n'\n",
      " '\\n'\n",
      " 'REASONING: The statute specifies that anyone who uses or carries a firearm '\n",
      " 'during and in relation to any crime of violence or drug trafficking crime '\n",
      " 'can be sentenced to additional imprisonment. In the case of John Angus '\n",
      " 'Smith, he offered to trade an automatic weapon for cocaine to an undercover '\n",
      " 'officer. This action can be interpreted as \"using\" the gun in relation to a '\n",
      " 'drug trafficking crime. Although the term \"use\" is not explicitly defined in '\n",
      " 'the statute, it can reasonably be inferred that offering a firearm in '\n",
      " 'exchange for drugs constitutes \"use\" as it is an integral part of the crime '\n",
      " 'being committed. The firearm is not merely being carried, but is actively '\n",
      " 'being utilized as a means to commit the crime.')\n",
      "\n",
      "##############################################\n",
      "\n",
      "Here is the completion with temperature completion_temp_0.7:\n",
      "('ANSWER: Yes\\n'\n",
      " '\\n'\n",
      " 'REASONING: The statute states that anyone who uses or carries a firearm '\n",
      " 'during and in relation to any crime of violence or drug trafficking crime '\n",
      " 'can be sentenced to additional imprisonment. In the case of John Angus '\n",
      " 'Smith, he offered to trade an automatic weapon for cocaine to an undercover '\n",
      " 'officer. This action can be considered as \"using\" the gun in relation to a '\n",
      " 'drug trafficking crime. Although the term \"use\" is not explicitly defined in '\n",
      " 'the statute, it can be reasonably inferred that offering to trade a firearm '\n",
      " 'in exchange for drugs constitutes a form of \"use\" as it facilitates the drug '\n",
      " 'trafficking crime. Therefore, a reasonable person would consider that Mr. '\n",
      " 'Smith \"used\" his gun in the sense that the language of the statute requires.')\n",
      "\n",
      "##############################################\n",
      "\n",
      "Here is the completion with temperature completion_temp_1:\n",
      "('ANSWER: Yes\\n'\n",
      " '\\n'\n",
      " 'REASONING: The statute specifies that anyone who uses or carries a firearm '\n",
      " 'during and in relation to any crime of violence or drug trafficking crime '\n",
      " 'can be subjected to additional punishment. In this case, John Angus Smith '\n",
      " 'offered to trade an automatic weapon for cocaine, which is a drug '\n",
      " 'trafficking crime. Although he did not physically use the gun in a violent '\n",
      " 'manner, the fact that he used it as a bargaining tool in the commission of a '\n",
      " 'drug crime suggests that he \"used\" the firearm in the context of the crime. '\n",
      " 'This interpretation aligns with the broad language of the statute, which '\n",
      " 'encompasses not only violent use of a firearm but also its use in relation '\n",
      " 'to a drug trafficking crime.')\n",
      "\n",
      "##############################################\n",
      "\n"
     ]
    }
   ],
   "source": [
    "for key, value in answers.items():\n",
    "    print(f'Here is the completion with temperature {key}:')\n",
    "    pprint(value)\n",
    "    print('\\n##############################################\\n')"
   ]
  },
  {
   "cell_type": "code",
   "execution_count": 24,
   "metadata": {},
   "outputs": [
    {
     "name": "stdout",
     "output_type": "stream",
     "text": [
      "ANSWER: No\n",
      "\n",
      "REASONING: The statute specifies that the use or carrying of a firearm must be \"during and in relation to\" a crime of violence or drug trafficking crime. In this case, while Mr. Smith was indeed involved in a drug trafficking crime, there's no evidence that he used or carried the firearm during or in relation to this crime. The firearm was not used as a tool or weapon in the commission of the drug trafficking crime, nor was it carried on his person during the crime. Instead, it was a separate item that he was attempting to trade for drugs after the initial drug transaction had already taken place. Therefore, a reasonable person might not consider that Mr. Smith \"used\" his gun in the sense that the language of the statute requires.\n"
     ]
    }
   ],
   "source": [
    "print(first_try_largest)"
   ]
  },
  {
   "cell_type": "code",
   "execution_count": 23,
   "metadata": {},
   "outputs": [
    {
     "name": "stdout",
     "output_type": "stream",
     "text": [
      "ANSWER: Yes\n",
      "\n",
      "REASONING: The statute specifies that anyone who uses or carries a firearm during and in relation to any crime of violence or drug trafficking crime can be subjected to additional punishment. In this case, John Angus Smith offered to trade an automatic weapon for cocaine, which is a drug trafficking crime. Although he did not physically use the gun in a violent manner, the fact that he used it as a bargaining tool in the commission of a drug crime suggests that he \"used\" the firearm in the context of the crime. This interpretation aligns with the broad language of the statute, which encompasses not only violent use of a firearm but also its use in relation to a drug trafficking crime.\n"
     ]
    }
   ],
   "source": [
    "print(answers['completion_temp_1'])"
   ]
  },
  {
   "cell_type": "markdown",
   "metadata": {},
   "source": [
    "### The majority of responses from MistralAI models agree with the SCOTUS majority opinion\n",
    "\n",
    "#### In this case, however, one answer, from Mistral Large seemed to agree with the dissenting opinion:\n",
    "**ANSWER:** No\n",
    "\n",
    "**REASONING:** The statute specifies that the use or carrying of a firearm must be \"during and in relation to\" a crime of violence or drug trafficking crime. In this case, while Mr. Smith was indeed involved in a drug trafficking crime, there's no evidence that he used or carried the firearm during or in relation to this crime. The firearm was not used as a tool or weapon in the commission of the drug trafficking crime, nor was it carried on his person during the crime. Instead, it was a separate item that he was attempting to trade for drugs after the initial drug transaction had already taken place. Therefore, a reasonable person might not consider that Mr. Smith \"used\" his gun in the sense that the language of the statute requires.\n",
    "\n",
    "*Interestingly*, this answer was based in the description of the case extracted from the SCOTUS majority opinion. \n",
    "\n",
    "When the same model was used to generate answers based on the Gries and Slocum formulation of the case, all versions, in different temperatures, agreed with the SCOTUS majority. Displayed below is the version at *maximum temperature* (1), as it takes into consideration the question of using as trade:\n",
    "\n",
    "**ANSWER:** Yes\n",
    "\n",
    "**REASONING:** The statute specifies that anyone who uses or carries a firearm during and in relation to any crime of violence or drug trafficking crime can be subjected to additional punishment. In this case, John Angus Smith offered to trade an automatic weapon for cocaine, which is a drug trafficking crime. Although he did not physically use the gun in a violent manner, the fact that he used it as a bargaining tool in the commission of a drug crime suggests that he \"used\" the firearm in the context of the crime. This interpretation aligns with the broad language of the statute, which encompasses not only violent use of a firearm but also its use in relation to a drug trafficking crime.\n",
    "\n",
    "---------\n",
    "\n",
    "**SIDE NOTE**: All this costed me a total of *US$ 0.02** "
   ]
  }
 ],
 "metadata": {
  "kernelspec": {
   "display_name": "llms_da",
   "language": "python",
   "name": "python3"
  },
  "language_info": {
   "codemirror_mode": {
    "name": "ipython",
    "version": 3
   },
   "file_extension": ".py",
   "mimetype": "text/x-python",
   "name": "python",
   "nbconvert_exporter": "python",
   "pygments_lexer": "ipython3",
   "version": "3.11.9"
  }
 },
 "nbformat": 4,
 "nbformat_minor": 2
}
