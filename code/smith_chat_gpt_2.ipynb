{
 "cells": [
  {
   "cell_type": "code",
   "execution_count": 1,
   "metadata": {},
   "outputs": [],
   "source": [
    "import os\n",
    "from openai import OpenAI\n",
    "from credentials import get_credentials_openai\n",
    "from IPython.display import display, Markdown\n",
    "\n",
    "\n"
   ]
  },
  {
   "cell_type": "code",
   "execution_count": 2,
   "metadata": {},
   "outputs": [],
   "source": [
    "key= get_credentials_openai()\n",
    "client = OpenAI(api_key=key)"
   ]
  },
  {
   "cell_type": "code",
   "execution_count": 3,
   "metadata": {},
   "outputs": [],
   "source": [
    "def get_completion(prompt: str, temperature: float = 0.7) -> str:\n",
    "    response = client.chat.completions.create(\n",
    "        model=\"gpt-4o\",\n",
    "        messages=[{\"role\": \"user\", \"content\": prompt}],\n",
    "        temperature=temperature,\n",
    "    )\n",
    "    return response.choices[0].message.content\n"
   ]
  },
  {
   "cell_type": "code",
   "execution_count": 4,
   "metadata": {},
   "outputs": [],
   "source": [
    "#Creat a path to access the data\n",
    "DATAPATH = os.path.join('..', 'data')\n",
    "\n",
    "#Read the statute and case summary\n",
    "statute = open(os.path.join(DATAPATH, '18USC924c1.txt'), 'r').read()\n",
    "case_summary = open(os.path.join(DATAPATH, 'smith_case_summary.txt'), 'r').read()\n"
   ]
  },
  {
   "cell_type": "code",
   "execution_count": 5,
   "metadata": {},
   "outputs": [],
   "source": [
    "prompt = f'''\n",
    "You are asked to consider a legal scenario from the perspective of an ordinary person, not a legal expert. Your task is to read a statute and a case summary, then decide whether the actions described constitute 'use' of a gun as defined by the statute.\n",
    "\n",
    "First, please read the following statute:\n",
    "\n",
    "<statute>\n",
    "{statute}\n",
    "</statute>\n",
    "\n",
    "Now, read the following case summary:\n",
    "\n",
    "<case_summary>\n",
    "{case_summary}\n",
    "</case_summary>\n",
    "\n",
    "Before providing your final answer, please analyze the situation in detail inside <legal_interpretation> tags. Consider the facts of the case and how they relate to the language of the statute. Remember, you're approaching this as an average person, not a legal professional.\n",
    "\n",
    "In your analysis, include the following:\n",
    "1. Quote the relevant parts of the statute that define 'use' of a gun.\n",
    "2. List the key actions Mr. Smith took with the gun, according to the case summary. Number each action.\n",
    "3. Explain how an ordinary person might interpret these actions in relation to the statute.\n",
    "4. Identify any aspects of the case that might influence your interpretation.\n",
    "5. Present arguments for and against considering Mr. Smith's actions as 'use' of the gun.\n",
    "6. Form your opinion on whether a reasonable person would consider that Mr. Smith 'used' his gun in the sense that the language of the statute requires.\n",
    "\n",
    "Based on your analysis, please provide your answer in the following format:\n",
    "\n",
    "ANSWER: [Your answer (yes or no)]\n",
    "REASONING: [Your reasoning, explained in simple terms that an average person would use]\n",
    "\n",
    "Please provide your response now.\n",
    "'''"
   ]
  },
  {
   "cell_type": "code",
   "execution_count": 6,
   "metadata": {},
   "outputs": [],
   "source": [
    "response = get_completion(prompt)"
   ]
  },
  {
   "cell_type": "code",
   "execution_count": 7,
   "metadata": {},
   "outputs": [
    {
     "data": {
      "text/markdown": [
       "<legal_interpretation>\n",
       "\n",
       "1. **Quote the relevant parts of the statute that define 'use' of a gun:**\n",
       "   - The statute states: \"Whoever, during and in relation to any crime of violence or drug trafficking crime... uses or carries a firearm, shall... be sentenced to imprisonment...\"\n",
       "\n",
       "2. **List the key actions Mr. Smith took with the gun, according to the case summary:**\n",
       "   - Action 1: Discussed his MAC–10 firearm with a drug dealer.\n",
       "   - Action 2: Promised the dealer he would discuss selling the gun if another arrangement fell through.\n",
       "   - Action 3: Presented the MAC–10 to an undercover officer by pulling it out of a black canvas bag.\n",
       "   - Action 4: Proposed trading the MAC–10 for two ounces of cocaine.\n",
       "\n",
       "3. **Explain how an ordinary person might interpret these actions in relation to the statute:**\n",
       "   - An ordinary person might see \"use\" of a gun as involving firing or threatening someone with it. However, the statute may also be interpreted to mean any deployment of the firearm as part of a criminal act. In this case, Mr. Smith used the gun as a bargaining chip in a drug trade negotiation, which could be seen as \"using\" the gun to facilitate a drug trafficking crime.\n",
       "\n",
       "4. **Identify any aspects of the case that might influence your interpretation:**\n",
       "   - The fact that Mr. Smith was actively using the gun as part of a negotiation to obtain drugs could be viewed as integrating the firearm into the drug trafficking crime. This use aligns with the statute's intent to penalize those who leverage firearms in the commission of such crimes.\n",
       "\n",
       "5. **Present arguments for and against considering Mr. Smith's actions as 'use' of the gun:**\n",
       "   - **For:** The gun was integral to the drug negotiation. By offering the gun in exchange for drugs, Mr. Smith incorporated the firearm into the drug trafficking crime, thereby \"using\" it as a form of currency or leverage.\n",
       "   - **Against:** The traditional understanding of \"use\" might imply actually firing or brandishing the firearm in a threatening manner, none of which occurred in this scenario.\n",
       "\n",
       "6. **Form your opinion on whether a reasonable person would consider that Mr. Smith 'used' his gun in the sense that the language of the statute requires:**\n",
       "   - A reasonable person might conclude that Mr. Smith did \"use\" the gun, given that it was a critical component of his negotiation for drugs. The ordinary understanding of \"use\" may extend to using the gun as a tool or asset in committing a drug trafficking crime.\n",
       "\n",
       "</legal_interpretation>\n",
       "\n",
       "ANSWER: Yes\n",
       "REASONING: An average person might see \"using\" a gun as firing it, but they could also understand it as using the gun for leverage in a crime. Mr. Smith offered to trade his gun for drugs, making the gun part of the crime. So, it seems reasonable to say he \"used\" the gun in a way that fits the statute's description."
      ],
      "text/plain": [
       "<IPython.core.display.Markdown object>"
      ]
     },
     "metadata": {},
     "output_type": "display_data"
    }
   ],
   "source": [
    "display(Markdown(response))"
   ]
  },
  {
   "cell_type": "code",
   "execution_count": null,
   "metadata": {},
   "outputs": [],
   "source": []
  }
 ],
 "metadata": {
  "kernelspec": {
   "display_name": "llms_da",
   "language": "python",
   "name": "python3"
  },
  "language_info": {
   "codemirror_mode": {
    "name": "ipython",
    "version": 3
   },
   "file_extension": ".py",
   "mimetype": "text/x-python",
   "name": "python",
   "nbconvert_exporter": "python",
   "pygments_lexer": "ipython3",
   "version": "3.11.9"
  }
 },
 "nbformat": 4,
 "nbformat_minor": 2
}
