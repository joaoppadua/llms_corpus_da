{
 "cells": [
  {
   "cell_type": "code",
   "execution_count": 34,
   "metadata": {},
   "outputs": [],
   "source": [
    "import os\n",
    "from credentials import get_credentials_gemini\n",
    "import google.generativeai as genai\n",
    "from IPython.display import display\n",
    "from IPython.display import Markdown\n",
    "import textwrap\n",
    "from pprint import pprint"
   ]
  },
  {
   "cell_type": "code",
   "execution_count": 2,
   "metadata": {},
   "outputs": [],
   "source": [
    "def to_markdown(text):\n",
    "    text = text.replace('•', ' *')\n",
    "    return Markdown(textwrap.indent(text, '> ', predicate=lambda _: True))"
   ]
  },
  {
   "cell_type": "code",
   "execution_count": 4,
   "metadata": {},
   "outputs": [],
   "source": [
    "API_KEY = get_credentials_gemini()"
   ]
  },
  {
   "cell_type": "code",
   "execution_count": 5,
   "metadata": {},
   "outputs": [],
   "source": [
    "genai.configure(api_key=get_credentials_gemini())"
   ]
  },
  {
   "cell_type": "code",
   "execution_count": 12,
   "metadata": {},
   "outputs": [],
   "source": [
    "model = genai.GenerativeModel(model_name='gemini-1.5-pro-latest',\n",
    "                              system_instruction='you are a regular natural language user')"
   ]
  },
  {
   "cell_type": "code",
   "execution_count": 13,
   "metadata": {},
   "outputs": [],
   "source": [
    "def get_completion(prompt, temperature=1.0):\n",
    "    completion = model.generate_content(prompt,\n",
    "            generation_config=genai.types.GenerationConfig(\n",
    "            temperature=temperature)\n",
    "    )\n",
    "    return completion.text"
   ]
  },
  {
   "cell_type": "code",
   "execution_count": 19,
   "metadata": {},
   "outputs": [],
   "source": [
    "#Creat a path to access the data\n",
    "DATAPATH = os.path.join('..', 'data')"
   ]
  },
  {
   "cell_type": "code",
   "execution_count": 36,
   "metadata": {},
   "outputs": [],
   "source": [
    "#Read the statute\n",
    "with open(os.path.join(DATAPATH, '18USC924c1.txt'), 'r') as f:\n",
    "    statute = f.read()\n",
    "\n",
    "#Case summary from the majority opinion in Smith v. United States\n",
    "with open(os.path.join(DATAPATH, 'smith_case_summary.txt'), 'r') as f:\n",
    "    case_summary = f.read()"
   ]
  },
  {
   "cell_type": "code",
   "execution_count": 37,
   "metadata": {},
   "outputs": [],
   "source": [
    "prompt = f''''\n",
    "Read the following statute: {statute}.\n",
    "Now, read the following case summary: {case_summary}.\n",
    "Based on this case, would you say that a reasonable person would consider that Mr. Smith _used_ \n",
    "his gun in the sense that the language of the statute requires? \n",
    "Answer in the format:\n",
    "ANSWER: Your answer (yes or no) \n",
    "REASONING: Your reasoning.\n",
    "Use markdown to format your answer.\n",
    "'''"
   ]
  },
  {
   "cell_type": "code",
   "execution_count": 23,
   "metadata": {},
   "outputs": [],
   "source": [
    "#Completion with prompt and summary from SCOTUS\n",
    "first_try = get_completion(prompt)"
   ]
  },
  {
   "cell_type": "code",
   "execution_count": 24,
   "metadata": {},
   "outputs": [
    {
     "data": {
      "text/markdown": [
       "> ## ANSWER: Yes \n",
       "> \n",
       "> ## REASONING: \n",
       "> \n",
       "> While Mr. Smith didn't fire or brandish the MAC-10 in a traditionally aggressive manner, his actions demonstrate that he **used** the firearm as leverage and a bartering tool during a drug trafficking crime. Let's break it down:\n",
       "> \n",
       "> * **Context of Drug Trafficking:**  The entire scenario unfolded within the context of a drug deal. Mr. Smith traveled interstate with the intention to purchase and resell cocaine, a clear act of drug trafficking.\n",
       "> * **Active Involvement of the Firearm:**  He actively brought the MAC-10 to the motel room and readily presented it to the undercover officer, showcasing its features and firepower. This wasn't merely possessing a firearm; it was actively incorporating it into the negotiation. \n",
       "> * **Bartering Tool:** He explicitly offered to trade the MAC-10 for two ounces of cocaine, demonstrating its use as a valuable asset within the drug deal. The firearm wasn't just present; it was a central element of the proposed transaction.\n",
       "> * **Legislative Intent:** The statute aims to deter the presence and use of firearms in violent crimes and drug trafficking.  Mr. Smith's actions directly fall within this scope, as he actively utilized the firearm to facilitate and potentially advance his drug trafficking activities. \n"
      ],
      "text/plain": [
       "<IPython.core.display.Markdown object>"
      ]
     },
     "execution_count": 24,
     "metadata": {},
     "output_type": "execute_result"
    }
   ],
   "source": [
    "to_markdown(first_try)"
   ]
  },
  {
   "cell_type": "code",
   "execution_count": 25,
   "metadata": {},
   "outputs": [],
   "source": [
    "#Case summary from Gries and Slocum paper\n",
    "case_summary = '''\n",
    "John Angus Smith offered to trade an automatic weapon to an undercover officer for cocaine.\n",
    "'''"
   ]
  },
  {
   "cell_type": "code",
   "execution_count": 27,
   "metadata": {},
   "outputs": [],
   "source": [
    "#Completion with prompt and summary from Gries and Slocum paper\n",
    "secont_try = get_completion(prompt)"
   ]
  },
  {
   "cell_type": "code",
   "execution_count": 28,
   "metadata": {},
   "outputs": [
    {
     "data": {
      "text/markdown": [
       "> ## ANSWER: No\n",
       "> \n",
       "> ## REASONING:\n",
       "> \n",
       "> While John Angus Smith certainly possessed and intended to transfer an automatic weapon (which falls under the statute's definition of a firearm), the act of offering it in a trade does not constitute \"use\" as it is typically understood within the context of the statute. The law generally interprets \"use\" of a firearm in the context of violence or drug trafficking crimes to involve its active employment to facilitate the crime, such as brandishing, firing, or otherwise leveraging it as a tool or threat during the criminal act. \n",
       "> \n",
       "> In this case, the firearm was the object of the transaction itself rather than a tool used to commit the drug trafficking crime (attempting to acquire cocaine). The trade offer could be seen as a separate act from the drug offense. \n"
      ],
      "text/plain": [
       "<IPython.core.display.Markdown object>"
      ]
     },
     "execution_count": 28,
     "metadata": {},
     "output_type": "execute_result"
    }
   ],
   "source": [
    "to_markdown(secont_try)"
   ]
  },
  {
   "cell_type": "code",
   "execution_count": 29,
   "metadata": {},
   "outputs": [],
   "source": [
    "#Varying the temperature\n",
    "answers = dict()\n",
    "for temp in [0.5, 1, 1.5]:\n",
    "    answers[f'completion_temp_{temp}'] = get_completion(prompt, temperature=temp)"
   ]
  },
  {
   "cell_type": "code",
   "execution_count": 35,
   "metadata": {},
   "outputs": [
    {
     "name": "stdout",
     "output_type": "stream",
     "text": [
      "Here is the completion with temperature completion_temp_0.5:\n",
      "('## ANSWER: No\\n'\n",
      " '\\n'\n",
      " '## REASONING: \\n'\n",
      " '\\n'\n",
      " 'While Mr. Smith clearly possessed and intended to transfer the automatic '\n",
      " 'weapon, the scenario described does not indicate that he actively \"used\" the '\n",
      " 'firearm in the context of violence or drug trafficking as defined by the '\n",
      " 'statute. The statute focuses on the active employment of the firearm during '\n",
      " 'the commission of a crime, such as brandishing, firing, or using it as a '\n",
      " 'tool of intimidation. Offering to trade the weapon, while certainly illegal '\n",
      " 'and indicative of intent to engage in criminal activity, does not meet the '\n",
      " 'threshold of \"use\" as described in the statute. \\n')\n",
      "\n",
      "##############################################\n",
      "\n",
      "Here is the completion with temperature completion_temp_1:\n",
      "('ANSWER: No\\n'\n",
      " '\\n'\n",
      " 'REASONING: While the statute covers \"uses or carries,\" the specific facts '\n",
      " 'only indicate that Mr. Smith offered to *trade* the weapon, not that he '\n",
      " 'actively used it in the commission of the crime. Offering to trade is not '\n",
      " 'typically considered \"use\" under firearm statutes. \\n')\n",
      "\n",
      "##############################################\n",
      "\n",
      "Here is the completion with temperature completion_temp_1.5:\n",
      "('## ANSWER: No\\n'\n",
      " '\\n'\n",
      " '## REASONING: \\n'\n",
      " '\\n'\n",
      " 'While the statute does not define \"use,\" offering to trade a firearm for '\n",
      " \"drugs doesn't seem to fit within the common understanding of the term.  The \"\n",
      " \"statute's focus appears to be on the active employment of the firearm during \"\n",
      " 'the commission of a crime of violence or drug trafficking, such as '\n",
      " 'brandishing, firing, or using it to threaten or intimidate.  In this case, '\n",
      " 'Mr. Smith proposed the gun as an item of barter, not as a tool to facilitate '\n",
      " 'the drug transaction. \\n')\n",
      "\n",
      "##############################################\n",
      "\n"
     ]
    }
   ],
   "source": [
    "for key, value in answers.items():\n",
    "    print(f'Here is the completion with temperature {key}:')\n",
    "    pprint(value)\n",
    "    print('\\n##############################################\\n')"
   ]
  },
  {
   "cell_type": "code",
   "execution_count": 42,
   "metadata": {},
   "outputs": [],
   "source": [
    "#Now, with the SCOTUS case summary, since it seemed to matter\n",
    "answers = dict()\n",
    "for temp in [0.5, 1, 1.5]:\n",
    "    answers[f'completion_temp_{temp}'] = get_completion(prompt, temperature=temp)"
   ]
  },
  {
   "cell_type": "code",
   "execution_count": 43,
   "metadata": {},
   "outputs": [
    {
     "name": "stdout",
     "output_type": "stream",
     "text": [
      "Here is the completion with temperature completion_temp_0.5:\n",
      "('## ANSWER: Yes\\n'\n",
      " '\\n'\n",
      " '## REASONING: \\n'\n",
      " '\\n'\n",
      " \"While Mr. Smith didn't fire or brandish the MAC-10 in a threatening manner, \"\n",
      " 'several factors suggest he \"used\" the firearm within the context of the '\n",
      " 'statute:\\n'\n",
      " '\\n'\n",
      " '* **Active Employment:** He actively employed the MAC-10 as a bartering tool '\n",
      " 'to facilitate a drug trafficking crime. He presented the firearm, discussed '\n",
      " 'its capabilities, and offered it in exchange for cocaine. \\n'\n",
      " '* **Integral to the Crime:** The possession and display of the MAC-10 were '\n",
      " \"integral to the attempted drug transaction. He leveraged the firearm's value \"\n",
      " 'and desirability within the criminal context to obtain drugs.\\n'\n",
      " '* **Dangerous Weapon:** The statute explicitly emphasizes the severity of '\n",
      " 'using dangerous weapons like the MAC-10, a fully automatic firearm with high '\n",
      " 'firing capacity, in connection with drug trafficking crimes. \\n'\n",
      " '\\n'\n",
      " \"Therefore, a reasonable person could conclude that Mr. Smith's actions \"\n",
      " 'constituted \"use\" of the firearm as it facilitated and was integral to the '\n",
      " 'attempted drug trafficking crime. \\n')\n",
      "\n",
      "##############################################\n",
      "\n",
      "Here is the completion with temperature completion_temp_1:\n",
      "('## ANSWER: Yes\\n'\n",
      " '\\n'\n",
      " '## REASONING: \\n'\n",
      " '\\n'\n",
      " 'While Mr. Smith did not fire or directly threaten with the MAC-10, his '\n",
      " 'actions demonstrate that he \"used\" the firearm within the context of the '\n",
      " \"statute. Here's why:\\n\"\n",
      " '\\n'\n",
      " '* **He actively displayed the weapon**: Mr. Smith took the MAC-10 out of the '\n",
      " 'bag and showed it to the undercover officer, emphasizing its automatic '\n",
      " \"capabilities and the silencer. This act goes beyond mere possession; it's a \"\n",
      " \"deliberate action showcasing the firearm's potential for violence in \"\n",
      " 'relation to the drug trafficking crime.\\n'\n",
      " '* **He intended to facilitate a drug deal**: Mr. Smith offered to trade the '\n",
      " 'MAC-10 for cocaine, explicitly linking the firearm to the drug transaction. '\n",
      " \"This demonstrates the gun's role in furthering his criminal activity. \\n\"\n",
      " '* **The context matters**: The statute specifically addresses using firearms '\n",
      " '\"during and in relation to\" crimes of violence or drug trafficking. Mr. '\n",
      " \"Smith's actions clearly fall within this scope, as he wielded the MAC-10 as \"\n",
      " 'a tool to facilitate and potentially protect his drug deal.\\n'\n",
      " '\\n'\n",
      " 'Therefore, a reasonable person would conclude that Mr. Smith \"used\" the '\n",
      " 'firearm as an instrumental part of the drug trafficking crime, fulfilling '\n",
      " 'the requirement of the statute. \\n')\n",
      "\n",
      "##############################################\n",
      "\n",
      "Here is the completion with temperature completion_temp_1.5:\n",
      "('## ANSWER: Yes \\n'\n",
      " '\\n'\n",
      " '## REASONING: \\n'\n",
      " '\\n'\n",
      " 'While Mr. Smith did not fire or directly threaten anyone with the MAC-10, '\n",
      " 'the case details strongly suggest that he \"used\" the firearm within the '\n",
      " \"context of the statute. Here's why:\\n\"\n",
      " '\\n'\n",
      " '* **Integral Part of the Drug Trafficking Crime:** Mr. Smith explicitly '\n",
      " 'offered the MAC-10 as a bartering tool to acquire cocaine. This demonstrates '\n",
      " 'that the firearm was directly involved in and facilitated the attempted drug '\n",
      " 'deal, making it an integral part of the drug trafficking crime. \\n'\n",
      " '* **Power Dynamics and Implicit Threat:**  The display of a powerful and '\n",
      " 'easily concealable automatic weapon like the MAC-10, especially to an '\n",
      " 'individual he believed to be involved in illegal activities, inherently '\n",
      " 'implies a threat and creates an atmosphere of intimidation. This implicit '\n",
      " 'threat serves to facilitate the drug transaction by ensuring compliance and '\n",
      " 'discouraging resistance from the other party.\\n'\n",
      " '* **Legislative Intent:** The purpose of the statute is to impose harsher '\n",
      " 'penalties on individuals who involve firearms in violent crimes and drug '\n",
      " 'trafficking. This is due to the increased danger and potential for '\n",
      " \"escalation when firearms are present during such offenses. Mr. Smith's \"\n",
      " 'actions clearly fall within the scope of this intent, as he actively used '\n",
      " 'the firearm to further his illegal activities.\\n'\n",
      " '\\n'\n",
      " 'Therefore, a reasonable person, considering the context and the legislative '\n",
      " 'intent, would conclude that Mr. Smith \"used\" the firearm within the meaning '\n",
      " 'of the statute. \\n')\n",
      "\n",
      "##############################################\n",
      "\n"
     ]
    }
   ],
   "source": [
    "for key, value in answers.items():\n",
    "    print(f'Here is the completion with temperature {key}:')\n",
    "    pprint(value)\n",
    "    print('\\n##############################################\\n')"
   ]
  }
 ],
 "metadata": {
  "kernelspec": {
   "display_name": "llms_da",
   "language": "python",
   "name": "python3"
  },
  "language_info": {
   "codemirror_mode": {
    "name": "ipython",
    "version": 3
   },
   "file_extension": ".py",
   "mimetype": "text/x-python",
   "name": "python",
   "nbconvert_exporter": "python",
   "pygments_lexer": "ipython3",
   "version": "3.11.9"
  }
 },
 "nbformat": 4,
 "nbformat_minor": 2
}
