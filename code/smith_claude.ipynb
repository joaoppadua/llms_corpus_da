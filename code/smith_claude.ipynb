{
 "cells": [
  {
   "cell_type": "code",
   "execution_count": 1,
   "metadata": {},
   "outputs": [
    {
     "name": "stdout",
     "output_type": "stream",
     "text": [
      "Collecting anthropic\n",
      "  Downloading anthropic-0.42.0-py3-none-any.whl.metadata (23 kB)\n",
      "Requirement already satisfied: anyio<5,>=3.5.0 in /Users/joaopedropadua/anaconda3/envs/llms_da/lib/python3.11/site-packages (from anthropic) (4.3.0)\n",
      "Requirement already satisfied: distro<2,>=1.7.0 in /Users/joaopedropadua/anaconda3/envs/llms_da/lib/python3.11/site-packages (from anthropic) (1.9.0)\n",
      "Requirement already satisfied: httpx<1,>=0.23.0 in /Users/joaopedropadua/anaconda3/envs/llms_da/lib/python3.11/site-packages (from anthropic) (0.25.2)\n",
      "Collecting jiter<1,>=0.4.0 (from anthropic)\n",
      "  Downloading jiter-0.8.2-cp311-cp311-macosx_10_12_x86_64.whl.metadata (5.2 kB)\n",
      "Requirement already satisfied: pydantic<3,>=1.9.0 in /Users/joaopedropadua/anaconda3/envs/llms_da/lib/python3.11/site-packages (from anthropic) (2.7.1)\n",
      "Requirement already satisfied: sniffio in /Users/joaopedropadua/anaconda3/envs/llms_da/lib/python3.11/site-packages (from anthropic) (1.3.1)\n",
      "Requirement already satisfied: typing-extensions<5,>=4.10 in /Users/joaopedropadua/anaconda3/envs/llms_da/lib/python3.11/site-packages (from anthropic) (4.11.0)\n",
      "Requirement already satisfied: idna>=2.8 in /Users/joaopedropadua/anaconda3/envs/llms_da/lib/python3.11/site-packages (from anyio<5,>=3.5.0->anthropic) (3.7)\n",
      "Requirement already satisfied: certifi in /Users/joaopedropadua/anaconda3/envs/llms_da/lib/python3.11/site-packages (from httpx<1,>=0.23.0->anthropic) (2024.2.2)\n",
      "Requirement already satisfied: httpcore==1.* in /Users/joaopedropadua/anaconda3/envs/llms_da/lib/python3.11/site-packages (from httpx<1,>=0.23.0->anthropic) (1.0.5)\n",
      "Requirement already satisfied: h11<0.15,>=0.13 in /Users/joaopedropadua/anaconda3/envs/llms_da/lib/python3.11/site-packages (from httpcore==1.*->httpx<1,>=0.23.0->anthropic) (0.14.0)\n",
      "Requirement already satisfied: annotated-types>=0.4.0 in /Users/joaopedropadua/anaconda3/envs/llms_da/lib/python3.11/site-packages (from pydantic<3,>=1.9.0->anthropic) (0.6.0)\n",
      "Requirement already satisfied: pydantic-core==2.18.2 in /Users/joaopedropadua/anaconda3/envs/llms_da/lib/python3.11/site-packages (from pydantic<3,>=1.9.0->anthropic) (2.18.2)\n",
      "Downloading anthropic-0.42.0-py3-none-any.whl (203 kB)\n",
      "\u001b[2K   \u001b[38;2;114;156;31m━━━━━━━━━━━━━━━━━━━━━━━━━━━━━━━━━━━━━━━━\u001b[0m \u001b[32m203.4/203.4 kB\u001b[0m \u001b[31m1.9 MB/s\u001b[0m eta \u001b[36m0:00:00\u001b[0m MB/s\u001b[0m eta \u001b[36m0:00:01\u001b[0m\n",
      "\u001b[?25hDownloading jiter-0.8.2-cp311-cp311-macosx_10_12_x86_64.whl (303 kB)\n",
      "\u001b[2K   \u001b[38;2;114;156;31m━━━━━━━━━━━━━━━━━━━━━━━━━━━━━━━━━━━━━━━━\u001b[0m \u001b[32m303.7/303.7 kB\u001b[0m \u001b[31m5.4 MB/s\u001b[0m eta \u001b[36m0:00:00\u001b[0m[31m7.9 MB/s\u001b[0m eta \u001b[36m0:00:01\u001b[0m\n",
      "\u001b[?25hInstalling collected packages: jiter, anthropic\n",
      "Successfully installed anthropic-0.42.0 jiter-0.8.2\n",
      "Note: you may need to restart the kernel to use updated packages.\n"
     ]
    }
   ],
   "source": [
    "%pip install anthropic"
   ]
  },
  {
   "cell_type": "code",
   "execution_count": 1,
   "metadata": {},
   "outputs": [
    {
     "name": "stdout",
     "output_type": "stream",
     "text": [
      "Intel MKL WARNING: Support of Intel(R) Streaming SIMD Extensions 4.2 (Intel(R) SSE4.2) enabled only processors has been deprecated. Intel oneAPI Math Kernel Library 2025.0 will require Intel(R) Advanced Vector Extensions (Intel(R) AVX) instructions.\n",
      "Intel MKL WARNING: Support of Intel(R) Streaming SIMD Extensions 4.2 (Intel(R) SSE4.2) enabled only processors has been deprecated. Intel oneAPI Math Kernel Library 2025.0 will require Intel(R) Advanced Vector Extensions (Intel(R) AVX) instructions.\n"
     ]
    }
   ],
   "source": [
    "import os\n",
    "from credentials import get_credentials_claude\n",
    "from anthropic import Anthropic\n",
    "from IPython.display import display, Markdown\n",
    "import pandas as pd"
   ]
  },
  {
   "cell_type": "code",
   "execution_count": 2,
   "metadata": {},
   "outputs": [],
   "source": [
    "API_KEY = get_credentials_claude()\n",
    "client = Anthropic(api_key=API_KEY)\n",
    "\n"
   ]
  },
  {
   "cell_type": "code",
   "execution_count": 3,
   "metadata": {},
   "outputs": [],
   "source": [
    "def get_completion(prompt: str, max_tokens: int = 2048) -> str:\n",
    "    '''\n",
    "    This function uses the Claude API to generate a response to the prompt.\n",
    "    Parameters:\n",
    "    prompt: the prompt to be used in the Claude API\n",
    "    max_tokens: the maximum number of tokens to be used in the Claude API\n",
    "    Returns:\n",
    "    response: the response from the Claude API\n",
    "    '''\n",
    "    response = client.messages.create(\n",
    "        model=\"claude-3-5-sonnet-20240620\",\n",
    "        system=\"You are an ordinary native speaker of English\",\n",
    "        messages=[{\"role\": \"user\", \"content\": prompt}],\n",
    "        max_tokens=max_tokens,\n",
    "    )\n",
    "    return response.content[0].text"
   ]
  },
  {
   "cell_type": "code",
   "execution_count": 4,
   "metadata": {},
   "outputs": [],
   "source": [
    "#Creat a path to access the data\n",
    "DATAPATH = os.path.join('..', 'data')\n",
    "\n",
    "#Read the statute and case summary\n",
    "statute = open(os.path.join(DATAPATH, '18USC924c1.txt'), 'r').read()\n",
    "case_summary = open(os.path.join(DATAPATH, 'smith_case_summary.txt'), 'r').read()\n"
   ]
  },
  {
   "cell_type": "code",
   "execution_count": 7,
   "metadata": {},
   "outputs": [],
   "source": [
    "#Prompt template done with the help of the Claude Console (https://console.anthropic.com/dashboard)\n",
    "\n",
    "prompt = f'''\n",
    "You are asked to consider a legal scenario from the perspective of an ordinary person, not a legal expert. Your task is to read a statute and a case summary, then decide whether the actions described constitute 'use' of a gun as defined by the statute.\n",
    "\n",
    "First, please read the following statute:\n",
    "\n",
    "<statute>\n",
    "{statute}\n",
    "</statute>\n",
    "\n",
    "Now, read the following case summary:\n",
    "\n",
    "<case_summary>\n",
    "{case_summary}\n",
    "</case_summary>\n",
    "\n",
    "Before providing your final answer, please analyze the situation in detail inside <legal_interpretation> tags. Consider the facts of the case and how they relate to the language of the statute. Remember, you're approaching this as an average person, not a legal professional.\n",
    "\n",
    "In your analysis, include the following:\n",
    "1. Quote the relevant parts of the statute that define 'use' of a gun.\n",
    "2. List the key actions Mr. Smith took with the gun, according to the case summary. Number each action.\n",
    "3. Explain how an ordinary person might interpret these actions in relation to the statute.\n",
    "4. Identify any aspects of the case that might influence your interpretation.\n",
    "5. Present arguments for and against considering Mr. Smith's actions as 'use' of the gun.\n",
    "6. Form your opinion on whether a reasonable person would consider that Mr. Smith 'used' his gun in the sense that the language of the statute requires.\n",
    "\n",
    "Based on your analysis, please provide your answer in the following format:\n",
    "\n",
    "ANSWER: [Your answer (yes or no)]\n",
    "REASONING: [Your reasoning, explained in simple terms that an average person would use]\n",
    "\n",
    "Please provide your response now.\n",
    "'''\n"
   ]
  },
  {
   "cell_type": "code",
   "execution_count": 8,
   "metadata": {},
   "outputs": [],
   "source": [
    "response = get_completion(prompt)"
   ]
  },
  {
   "cell_type": "code",
   "execution_count": 9,
   "metadata": {},
   "outputs": [
    {
     "data": {
      "text/markdown": [
       "<legal_interpretation>\n",
       "\n",
       "1. The statute doesn't explicitly define 'use' of a gun, but it mentions \"uses or carries a firearm\" in relation to a crime of violence or drug trafficking crime.\n",
       "\n",
       "2. Key actions Mr. Smith took with the gun:\n",
       "   1. Discussed the MAC-10 with a drug dealer\n",
       "   2. Promised to discuss selling the gun\n",
       "   3. Pulled the MAC-10 out of a black canvas bag\n",
       "   4. Showed it to the undercover officer\n",
       "   5. Offered to trade the MAC-10 for cocaine\n",
       "\n",
       "3. An ordinary person might interpret these actions as actively involving the gun in a drug-related situation. While Mr. Smith didn't fire the gun or threaten anyone with it, he did physically handle it and use it as a bargaining chip in a potential drug deal.\n",
       "\n",
       "4. Aspects that might influence interpretation:\n",
       "   - The gun was part of a proposed drug transaction\n",
       "   - The gun wasn't fired or used to threaten anyone\n",
       "   - The context was a discussion about selling drugs and guns\n",
       "\n",
       "5. Arguments for considering it 'use':\n",
       "   - The gun was actively involved in a potential drug deal\n",
       "   - Mr. Smith physically handled the gun during the crime\n",
       "   - The gun was central to the proposed transaction\n",
       "\n",
       "   Arguments against considering it 'use':\n",
       "   - Mr. Smith didn't fire the gun or threaten anyone with it\n",
       "   - He was only offering to trade it, not actively using it as a weapon\n",
       "   - The gun wasn't necessary for the drug crime itself\n",
       "\n",
       "6. In my opinion, a reasonable person would likely consider that Mr. Smith 'used' his gun in the sense of the statute. While he didn't use it as a weapon, he did actively involve it in a drug-related crime by offering it as part of a trade for drugs.\n",
       "\n",
       "</legal_interpretation>\n",
       "\n",
       "ANSWER: Yes\n",
       "\n",
       "REASONING: I think Mr. Smith did 'use' the gun according to the statute. Even though he didn't shoot it or threaten anyone, he brought it out during a drug deal and offered to trade it for cocaine. That seems like using the gun as part of a drug crime. He physically handled the gun and made it a key part of the illegal activity he was trying to do. To an average person, that would count as 'using' the gun in connection with a drug crime, which is what the law seems to be talking about."
      ],
      "text/plain": [
       "<IPython.core.display.Markdown object>"
      ]
     },
     "metadata": {},
     "output_type": "display_data"
    }
   ],
   "source": [
    "display(Markdown(response))"
   ]
  },
  {
   "cell_type": "code",
   "execution_count": 5,
   "metadata": {},
   "outputs": [],
   "source": [
    "#Create a prompt with only answer and reasoning\n",
    "new_prompt = f'''\n",
    "You are asked to consider a legal scenario from the perspective of an ordinary person, not a legal expert. Your task is to read a statute and a case summary, then decide whether the actions described constitute 'use' of a gun as defined by the statute.\n",
    "\n",
    "First, please read the following statute:\n",
    "\n",
    "<statute>\n",
    "{statute}\n",
    "</statute>\n",
    "\n",
    "Now, read the following case summary:\n",
    "\n",
    "<case_summary>\n",
    "{case_summary}\n",
    "</case_summary>\n",
    "\n",
    "Before providing your final answer, please analyze the situation in detail. Consider the facts of the case and how they relate to the language of the statute. Remember, you're approaching this as an average person, not a legal professional.\n",
    "\n",
    "Specifically, consider the following (but DO NOT include them in your response):\n",
    "1. The relevant parts of the statute that define 'use' of a gun.\n",
    "2. The key actions Mr. Smith took with the gun, according to the case summary. Number each action.\n",
    "3. How an ordinary person might interpret these actions in relation to the statute.\n",
    "4. Any aspects of the case that might influence your interpretation.\n",
    "5. Arguments for and against considering Mr. Smith's actions as 'use' of the gun.\n",
    "6. Your opinion on whether a reasonable person would consider that Mr. Smith 'used' his gun in the sense that the language of the statute requires.\n",
    "\n",
    "Based on your analysis, please provide your answer in the following format:\n",
    "\n",
    "ANSWER: [Your answer (yes or no)]\n",
    "REASONING: [Your reasoning, explained in simple terms that an average person would use]\n",
    "\n",
    "Please provide your response now.\n",
    "'''\n"
   ]
  },
  {
   "cell_type": "code",
   "execution_count": 6,
   "metadata": {},
   "outputs": [
    {
     "data": {
      "text/markdown": [
       "ANSWER: Yes\n",
       "\n",
       "REASONING: In my opinion as an ordinary person, Mr. Smith definitely 'used' the gun in this situation, even though he didn't fire it. Here's why:\n",
       "\n",
       "First, he brought the gun with him to a drug deal. That seems like he was using it for protection or intimidation, even if he didn't say so outright. \n",
       "\n",
       "Then, he actually took the gun out and showed it to the undercover officer. He didn't just mention having a gun - he physically handled it and displayed it. That feels like 'use' to me.\n",
       "\n",
       "Most importantly, he tried to trade the gun for drugs. He was actively trying to use the gun as a bargaining chip in a drug transaction. To me, that's clearly 'using' the gun as part of a crime.\n",
       "\n",
       "The statute talks about using a gun \"during and in relation to\" a crime. Mr. Smith didn't just happen to have the gun nearby - he actively brought it out and tried to make it part of the drug deal. That seems to fit what the law is talking about.\n",
       "\n",
       "Even though he didn't shoot the gun or threaten anyone with it directly, the way Mr. Smith handled and tried to trade the gun feels like 'use' to me. He was actively involving the gun in criminal activity, not just carrying it around."
      ],
      "text/plain": [
       "<IPython.core.display.Markdown object>"
      ]
     },
     "metadata": {},
     "output_type": "display_data"
    }
   ],
   "source": [
    "test_response = get_completion(new_prompt, max_tokens=500)\n",
    "display(Markdown(test_response))"
   ]
  },
  {
   "cell_type": "code",
   "execution_count": 7,
   "metadata": {},
   "outputs": [
    {
     "name": "stdout",
     "output_type": "stream",
     "text": [
      "DataFrame Structure:\n"
     ]
    },
    {
     "data": {
      "text/html": [
       "<div>\n",
       "<style scoped>\n",
       "    .dataframe tbody tr th:only-of-type {\n",
       "        vertical-align: middle;\n",
       "    }\n",
       "\n",
       "    .dataframe tbody tr th {\n",
       "        vertical-align: top;\n",
       "    }\n",
       "\n",
       "    .dataframe thead th {\n",
       "        text-align: right;\n",
       "    }\n",
       "</style>\n",
       "<table border=\"1\" class=\"dataframe\">\n",
       "  <thead>\n",
       "    <tr style=\"text-align: right;\">\n",
       "      <th></th>\n",
       "      <th>response</th>\n",
       "      <th>answer</th>\n",
       "      <th>reasoning</th>\n",
       "    </tr>\n",
       "  </thead>\n",
       "  <tbody>\n",
       "    <tr>\n",
       "      <th>0</th>\n",
       "      <td>ANSWER: Yes\\n\\nREASONING: From what I understa...</td>\n",
       "      <td>Yes</td>\n",
       "      <td>From what I understand as an ordinary person r...</td>\n",
       "    </tr>\n",
       "    <tr>\n",
       "      <th>1</th>\n",
       "      <td>ANSWER: Yes\\n\\nREASONING: Based on the informa...</td>\n",
       "      <td>Yes</td>\n",
       "      <td>Based on the information given, I believe Mr. ...</td>\n",
       "    </tr>\n",
       "    <tr>\n",
       "      <th>2</th>\n",
       "      <td>ANSWER: Yes\\n\\nREASONING: From what I understa...</td>\n",
       "      <td>Yes</td>\n",
       "      <td>From what I understand as an ordinary person r...</td>\n",
       "    </tr>\n",
       "  </tbody>\n",
       "</table>\n",
       "</div>"
      ],
      "text/plain": [
       "                                            response answer  \\\n",
       "0  ANSWER: Yes\\n\\nREASONING: From what I understa...    Yes   \n",
       "1  ANSWER: Yes\\n\\nREASONING: Based on the informa...    Yes   \n",
       "2  ANSWER: Yes\\n\\nREASONING: From what I understa...    Yes   \n",
       "\n",
       "                                           reasoning  \n",
       "0  From what I understand as an ordinary person r...  \n",
       "1  Based on the information given, I believe Mr. ...  \n",
       "2  From what I understand as an ordinary person r...  "
      ]
     },
     "metadata": {},
     "output_type": "display_data"
    },
    {
     "name": "stdout",
     "output_type": "stream",
     "text": [
      "\n",
      "Detailed View of Each Response:\n",
      "\n",
      "Test 1:\n",
      "Raw Response: ANSWER: Yes\n",
      "\n",
      "REASONING: From what I understand as an ordinary person reading this, I'd say Mr. Smith did 'use' the gun as the law describes. Here's why:\n",
      "\n",
      "First, the law talks about using a gun during a drug crime. It seems clear that Mr. Smith was involved in drug trafficking - he went to Florida to buy cocaine and was trying to trade his gun for drugs.\n",
      "\n",
      "Now, about how he 'used' the gun:\n",
      "1. He brought the gun with him to a drug deal. \n",
      "2. He talked about the gun with the drug dealer, even discussing selling it.\n",
      "3. He actually showed the gun to someone he thought was a potential buyer.\n",
      "4. He offered to trade the gun for cocaine.\n",
      "\n",
      "To me, these actions go beyond just carrying the gun. He actively brought it out, showed it off, and tried to use it as a bargaining chip in a drug deal. He wasn't just holding onto it for protection or keeping it hidden away.\n",
      "\n",
      "The law doesn't seem to say the gun has to be fired or used to threaten someone. It just says \"uses or carries.\" Mr. Smith definitely carried it, but I think he also 'used' it as part of his drug crime by trying to trade it.\n",
      "\n",
      "As an average person, I'd say that bringing a gun to a drug deal and offering to trade it for drugs counts as 'using' it in relation to a drug crime. It played an active role in what he was trying to do, even if he didn't shoot it or point it at anyone.\n",
      "Extracted Answer: Yes\n",
      "Extracted Reasoning: From what I understand as an ordinary person reading this, I'd say Mr. Smith did 'use' the gun as the law describes. Here's why:\n",
      "\n",
      "First, the law talks about using a gun during a drug crime. It seems clear that Mr. Smith was involved in drug trafficking - he went to Florida to buy cocaine and was trying to trade his gun for drugs.\n",
      "\n",
      "Now, about how he 'used' the gun:\n",
      "1. He brought the gun with him to a drug deal. \n",
      "2. He talked about the gun with the drug dealer, even discussing selling it.\n",
      "3. He actually showed the gun to someone he thought was a potential buyer.\n",
      "4. He offered to trade the gun for cocaine.\n",
      "\n",
      "To me, these actions go beyond just carrying the gun. He actively brought it out, showed it off, and tried to use it as a bargaining chip in a drug deal. He wasn't just holding onto it for protection or keeping it hidden away.\n",
      "\n",
      "The law doesn't seem to say the gun has to be fired or used to threaten someone. It just says \"uses or carries.\" Mr. Smith definitely carried it, but I think he also 'used' it as part of his drug crime by trying to trade it.\n",
      "\n",
      "As an average person, I'd say that bringing a gun to a drug deal and offering to trade it for drugs counts as 'using' it in relation to a drug crime. It played an active role in what he was trying to do, even if he didn't shoot it or point it at anyone.\n",
      "--------------------------------------------------\n",
      "\n",
      "Test 2:\n",
      "Raw Response: ANSWER: Yes\n",
      "\n",
      "REASONING: Based on the information given, I believe Mr. Smith did 'use' the gun as described in the statute. Here's why:\n",
      "\n",
      "The statute talks about using a firearm during a drug crime. While Mr. Smith didn't shoot the gun or threaten anyone with it directly, he clearly brought it to a drug deal and used it as a bargaining chip.\n",
      "\n",
      "Mr. Smith showed the gun to the undercover officer and offered to trade it for cocaine. This seems like he's using the gun as part of his attempt to get drugs. He's not just carrying it for protection or because he happened to have it with him. The gun is central to the drug transaction he's trying to make.\n",
      "\n",
      "Also, the fact that Mr. Smith pulled the gun out of a bag to show it off suggests he brought it specifically for this purpose. He's actively using the gun to try and get drugs, which is exactly the kind of situation the law seems meant to address.\n",
      "\n",
      "As an ordinary person, I'd say that bringing a gun to a drug deal and offering to trade it for drugs counts as 'using' the gun in relation to a drug crime. The gun wasn't just there by chance - it was a key part of what Mr. Smith was trying to do.\n",
      "\n",
      "While he didn't fire the gun or threaten anyone, using it as a trade item in a drug deal seems like it should count as 'use' under this law. The gun was an active part of the crime, not just something in the background.\n",
      "Extracted Answer: Yes\n",
      "Extracted Reasoning: Based on the information given, I believe Mr. Smith did 'use' the gun as described in the statute. Here's why:\n",
      "\n",
      "The statute talks about using a firearm during a drug crime. While Mr. Smith didn't shoot the gun or threaten anyone with it directly, he clearly brought it to a drug deal and used it as a bargaining chip.\n",
      "\n",
      "Mr. Smith showed the gun to the undercover officer and offered to trade it for cocaine. This seems like he's using the gun as part of his attempt to get drugs. He's not just carrying it for protection or because he happened to have it with him. The gun is central to the drug transaction he's trying to make.\n",
      "\n",
      "Also, the fact that Mr. Smith pulled the gun out of a bag to show it off suggests he brought it specifically for this purpose. He's actively using the gun to try and get drugs, which is exactly the kind of situation the law seems meant to address.\n",
      "\n",
      "As an ordinary person, I'd say that bringing a gun to a drug deal and offering to trade it for drugs counts as 'using' the gun in relation to a drug crime. The gun wasn't just there by chance - it was a key part of what Mr. Smith was trying to do.\n",
      "\n",
      "While he didn't fire the gun or threaten anyone, using it as a trade item in a drug deal seems like it should count as 'use' under this law. The gun was an active part of the crime, not just something in the background.\n",
      "--------------------------------------------------\n",
      "\n",
      "Test 3:\n",
      "Raw Response: ANSWER: Yes\n",
      "\n",
      "REASONING: From what I understand as an ordinary person reading this, Mr. Smith definitely 'used' his gun in relation to a drug crime. Here's why I think so:\n",
      "\n",
      "First, the statute talks about using a firearm during a drug trafficking crime. Smith was clearly involved in trying to buy and sell cocaine, which sounds like drug trafficking to me.\n",
      "\n",
      "Then, when it comes to 'using' the gun, Smith did several things that seem to fit:\n",
      "\n",
      "1. He brought the gun with him to a drug deal.\n",
      "2. He showed the gun to the undercover officer during their discussion about drugs.\n",
      "3. He offered to trade the gun for cocaine.\n",
      "\n",
      "To me, bringing a gun to a drug deal and then offering to trade it for drugs is definitely 'using' it as part of the crime. He didn't just happen to have it with him - he actively brought it out and tried to use it as a bargaining chip to get drugs.\n",
      "\n",
      "Even though he didn't shoot the gun or threaten anyone with it, I think most people would agree that offering a gun in exchange for illegal drugs counts as 'using' it in a drug crime. The gun was a key part of the illegal transaction he was trying to make.\n",
      "\n",
      "So, based on how I understand the situation as an average person, I'd say yes, Smith 'used' the gun in the way the law describes.\n",
      "Extracted Answer: Yes\n",
      "Extracted Reasoning: From what I understand as an ordinary person reading this, Mr. Smith definitely 'used' his gun in relation to a drug crime. Here's why I think so:\n",
      "\n",
      "First, the statute talks about using a firearm during a drug trafficking crime. Smith was clearly involved in trying to buy and sell cocaine, which sounds like drug trafficking to me.\n",
      "\n",
      "Then, when it comes to 'using' the gun, Smith did several things that seem to fit:\n",
      "\n",
      "1. He brought the gun with him to a drug deal.\n",
      "2. He showed the gun to the undercover officer during their discussion about drugs.\n",
      "3. He offered to trade the gun for cocaine.\n",
      "\n",
      "To me, bringing a gun to a drug deal and then offering to trade it for drugs is definitely 'using' it as part of the crime. He didn't just happen to have it with him - he actively brought it out and tried to use it as a bargaining chip to get drugs.\n",
      "\n",
      "Even though he didn't shoot the gun or threaten anyone with it, I think most people would agree that offering a gun in exchange for illegal drugs counts as 'using' it in a drug crime. The gun was a key part of the illegal transaction he was trying to make.\n",
      "\n",
      "So, based on how I understand the situation as an average person, I'd say yes, Smith 'used' the gun in the way the law describes.\n",
      "--------------------------------------------------\n"
     ]
    }
   ],
   "source": [
    "#Test\n",
    "test_responses = []\n",
    "test_answers = []\n",
    "test_reasoning = []\n",
    "\n",
    "for i in range(3):\n",
    "    t_response = get_completion(new_prompt)\n",
    "    test_answers.append(t_response[t_response.find(\"ANSWER:\") + 7:t_response.find(\"REASONING:\")].strip())\n",
    "    test_reasoning.append(t_response[t_response.find(\"REASONING:\") + 10:].strip())\n",
    "    test_responses.append(t_response)\n",
    "\n",
    "\n",
    "# Convert to DataFrame\n",
    "test_df = pd.DataFrame({'response': test_responses, 'answer': test_answers, 'reasoning': test_reasoning})\n",
    "\n",
    "# Display the results\n",
    "print(\"DataFrame Structure:\")\n",
    "display(test_df)\n",
    "\n",
    "print(\"\\nDetailed View of Each Response:\")\n",
    "for i, row in test_df.iterrows():\n",
    "    print(f\"\\nTest {i+1}:\")\n",
    "    print(f\"Raw Response: {row['response']}\")\n",
    "    print(f\"Extracted Answer: {row['answer']}\")\n",
    "    print(f\"Extracted Reasoning: {row['reasoning']}\")\n",
    "    print(\"-\" * 50)"
   ]
  },
  {
   "cell_type": "code",
   "execution_count": 8,
   "metadata": {},
   "outputs": [
    {
     "data": {
      "text/html": [
       "<div>\n",
       "<style scoped>\n",
       "    .dataframe tbody tr th:only-of-type {\n",
       "        vertical-align: middle;\n",
       "    }\n",
       "\n",
       "    .dataframe tbody tr th {\n",
       "        vertical-align: top;\n",
       "    }\n",
       "\n",
       "    .dataframe thead th {\n",
       "        text-align: right;\n",
       "    }\n",
       "</style>\n",
       "<table border=\"1\" class=\"dataframe\">\n",
       "  <thead>\n",
       "    <tr style=\"text-align: right;\">\n",
       "      <th></th>\n",
       "      <th>answer</th>\n",
       "      <th>reasoning</th>\n",
       "    </tr>\n",
       "  </thead>\n",
       "  <tbody>\n",
       "    <tr>\n",
       "      <th>0</th>\n",
       "      <td>Yes</td>\n",
       "      <td>As an ordinary person reading this, I'd say Sm...</td>\n",
       "    </tr>\n",
       "    <tr>\n",
       "      <th>1</th>\n",
       "      <td>Yes</td>\n",
       "      <td>From what I understand as an ordinary person, ...</td>\n",
       "    </tr>\n",
       "    <tr>\n",
       "      <th>2</th>\n",
       "      <td>Yes</td>\n",
       "      <td>Based on the details provided, I believe Mr. S...</td>\n",
       "    </tr>\n",
       "    <tr>\n",
       "      <th>3</th>\n",
       "      <td>Yes</td>\n",
       "      <td>From what I can tell as an ordinary person, it...</td>\n",
       "    </tr>\n",
       "    <tr>\n",
       "      <th>4</th>\n",
       "      <td>Yes</td>\n",
       "      <td>As an ordinary person, I believe Mr. Smith did...</td>\n",
       "    </tr>\n",
       "  </tbody>\n",
       "</table>\n",
       "</div>"
      ],
      "text/plain": [
       "  answer                                          reasoning\n",
       "0    Yes  As an ordinary person reading this, I'd say Sm...\n",
       "1    Yes  From what I understand as an ordinary person, ...\n",
       "2    Yes  Based on the details provided, I believe Mr. S...\n",
       "3    Yes  From what I can tell as an ordinary person, it...\n",
       "4    Yes  As an ordinary person, I believe Mr. Smith did..."
      ]
     },
     "metadata": {},
     "output_type": "display_data"
    }
   ],
   "source": [
    "#Create a sample of 100 responses and put them in a Pandas DataFrame\n",
    "# Create empty lists to store answers and reasoning\n",
    "answers = []\n",
    "reasoning = []\n",
    "\n",
    "# Generate 100 responses\n",
    "for i in range(100):\n",
    "    response = get_completion(new_prompt)\n",
    "    \n",
    "    # Extract answer and reasoning using simple string parsing\n",
    "    # Assuming format is consistent with \"ANSWER:\" and \"REASONING:\" labels\n",
    "    answer_start = response.find(\"ANSWER:\") + 7\n",
    "    reasoning_start = response.find(\"REASONING:\") + 10\n",
    "    \n",
    "    answer = response[answer_start:response.find(\"REASONING:\")].strip()\n",
    "    reason = response[reasoning_start:].strip()\n",
    "    \n",
    "    answers.append(answer)\n",
    "    reasoning.append(reason)\n",
    "\n",
    "# Create DataFrame\n",
    "responses_df = pd.DataFrame({\n",
    "    'answer': answers,\n",
    "    'reasoning': reasoning\n",
    "})\n",
    "\n",
    "# Display first few rows\n",
    "display(responses_df.head())\n"
   ]
  },
  {
   "cell_type": "code",
   "execution_count": 9,
   "metadata": {},
   "outputs": [
    {
     "name": "stdout",
     "output_type": "stream",
     "text": [
      "answer\n",
      "Yes    100\n",
      "Name: count, dtype: int64\n"
     ]
    }
   ],
   "source": [
    "#Count how many \"yes\" and \"no\" answers there are\n",
    "print(responses_df['answer'].value_counts())"
   ]
  },
  {
   "cell_type": "code",
   "execution_count": 10,
   "metadata": {},
   "outputs": [],
   "source": [
    "#save the Dataframe to a csv file in the data folder\n",
    "responses_df.to_csv(os.path.join(DATAPATH, 'smith_responses_claude.csv'), index=False)"
   ]
  }
 ],
 "metadata": {
  "kernelspec": {
   "display_name": "llms_da",
   "language": "python",
   "name": "python3"
  },
  "language_info": {
   "codemirror_mode": {
    "name": "ipython",
    "version": 3
   },
   "file_extension": ".py",
   "mimetype": "text/x-python",
   "name": "python",
   "nbconvert_exporter": "python",
   "pygments_lexer": "ipython3",
   "version": "3.11.9"
  }
 },
 "nbformat": 4,
 "nbformat_minor": 2
}
