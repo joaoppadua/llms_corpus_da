{
 "cells": [
  {
   "cell_type": "code",
   "execution_count": 1,
   "metadata": {},
   "outputs": [
    {
     "name": "stdout",
     "output_type": "stream",
     "text": [
      "Collecting anthropic\n",
      "  Downloading anthropic-0.42.0-py3-none-any.whl.metadata (23 kB)\n",
      "Requirement already satisfied: anyio<5,>=3.5.0 in /Users/joaopedropadua/anaconda3/envs/llms_da/lib/python3.11/site-packages (from anthropic) (4.3.0)\n",
      "Requirement already satisfied: distro<2,>=1.7.0 in /Users/joaopedropadua/anaconda3/envs/llms_da/lib/python3.11/site-packages (from anthropic) (1.9.0)\n",
      "Requirement already satisfied: httpx<1,>=0.23.0 in /Users/joaopedropadua/anaconda3/envs/llms_da/lib/python3.11/site-packages (from anthropic) (0.25.2)\n",
      "Collecting jiter<1,>=0.4.0 (from anthropic)\n",
      "  Downloading jiter-0.8.2-cp311-cp311-macosx_10_12_x86_64.whl.metadata (5.2 kB)\n",
      "Requirement already satisfied: pydantic<3,>=1.9.0 in /Users/joaopedropadua/anaconda3/envs/llms_da/lib/python3.11/site-packages (from anthropic) (2.7.1)\n",
      "Requirement already satisfied: sniffio in /Users/joaopedropadua/anaconda3/envs/llms_da/lib/python3.11/site-packages (from anthropic) (1.3.1)\n",
      "Requirement already satisfied: typing-extensions<5,>=4.10 in /Users/joaopedropadua/anaconda3/envs/llms_da/lib/python3.11/site-packages (from anthropic) (4.11.0)\n",
      "Requirement already satisfied: idna>=2.8 in /Users/joaopedropadua/anaconda3/envs/llms_da/lib/python3.11/site-packages (from anyio<5,>=3.5.0->anthropic) (3.7)\n",
      "Requirement already satisfied: certifi in /Users/joaopedropadua/anaconda3/envs/llms_da/lib/python3.11/site-packages (from httpx<1,>=0.23.0->anthropic) (2024.2.2)\n",
      "Requirement already satisfied: httpcore==1.* in /Users/joaopedropadua/anaconda3/envs/llms_da/lib/python3.11/site-packages (from httpx<1,>=0.23.0->anthropic) (1.0.5)\n",
      "Requirement already satisfied: h11<0.15,>=0.13 in /Users/joaopedropadua/anaconda3/envs/llms_da/lib/python3.11/site-packages (from httpcore==1.*->httpx<1,>=0.23.0->anthropic) (0.14.0)\n",
      "Requirement already satisfied: annotated-types>=0.4.0 in /Users/joaopedropadua/anaconda3/envs/llms_da/lib/python3.11/site-packages (from pydantic<3,>=1.9.0->anthropic) (0.6.0)\n",
      "Requirement already satisfied: pydantic-core==2.18.2 in /Users/joaopedropadua/anaconda3/envs/llms_da/lib/python3.11/site-packages (from pydantic<3,>=1.9.0->anthropic) (2.18.2)\n",
      "Downloading anthropic-0.42.0-py3-none-any.whl (203 kB)\n",
      "\u001b[2K   \u001b[38;2;114;156;31m━━━━━━━━━━━━━━━━━━━━━━━━━━━━━━━━━━━━━━━━\u001b[0m \u001b[32m203.4/203.4 kB\u001b[0m \u001b[31m1.9 MB/s\u001b[0m eta \u001b[36m0:00:00\u001b[0m MB/s\u001b[0m eta \u001b[36m0:00:01\u001b[0m\n",
      "\u001b[?25hDownloading jiter-0.8.2-cp311-cp311-macosx_10_12_x86_64.whl (303 kB)\n",
      "\u001b[2K   \u001b[38;2;114;156;31m━━━━━━━━━━━━━━━━━━━━━━━━━━━━━━━━━━━━━━━━\u001b[0m \u001b[32m303.7/303.7 kB\u001b[0m \u001b[31m5.4 MB/s\u001b[0m eta \u001b[36m0:00:00\u001b[0m[31m7.9 MB/s\u001b[0m eta \u001b[36m0:00:01\u001b[0m\n",
      "\u001b[?25hInstalling collected packages: jiter, anthropic\n",
      "Successfully installed anthropic-0.42.0 jiter-0.8.2\n",
      "Note: you may need to restart the kernel to use updated packages.\n"
     ]
    }
   ],
   "source": [
    "%pip install anthropic"
   ]
  },
  {
   "cell_type": "code",
   "execution_count": 2,
   "metadata": {},
   "outputs": [],
   "source": [
    "import os\n",
    "from credentials import get_credentials_claude\n",
    "from anthropic import Anthropic\n",
    "from pprint import pprint"
   ]
  },
  {
   "cell_type": "code",
   "execution_count": 3,
   "metadata": {},
   "outputs": [],
   "source": [
    "API_KEY = get_credentials_claude()\n",
    "client = Anthropic(api_key=API_KEY)\n",
    "\n"
   ]
  },
  {
   "cell_type": "code",
   "execution_count": 7,
   "metadata": {},
   "outputs": [],
   "source": [
    "def claude_smith(prompt: str, temperature: float = 0.7) -> str:\n",
    "    '''\n",
    "    This function uses the Claude API to generate a response to the prompt.\n",
    "    Parameters:\n",
    "    prompt: the prompt to be used in the Claude API\n",
    "    temperature: the temperature to be used in the Claude API\n",
    "    Returns:\n",
    "    response: the response from the Claude API\n",
    "    '''\n",
    "    response = client.messages.create(\n",
    "        model=\"claude-3-5-sonnet-20240620\",\n",
    "        system=\"You are an ordinary native speaker of English\",\n",
    "        messages=[{\"role\": \"user\", \"content\": prompt}],\n",
    "        temperature=temperature,\n",
    "        max_tokens=2048,\n",
    "    )\n",
    "    return response.content[0].text"
   ]
  },
  {
   "cell_type": "code",
   "execution_count": 8,
   "metadata": {},
   "outputs": [],
   "source": [
    "#Prompt template done with the help of the Claude Console (https://console.anthropic.com/dashboard)\n",
    "\n",
    "prompt = f'''\n",
    "You are asked to consider a legal scenario from the perspective of an ordinary person, not a legal expert. Your task is to read a statute and a case summary, then decide whether the actions described constitute 'use' of a gun as defined by the statute.\n",
    "\n",
    "First, please read the following statute:\n",
    "\n",
    "<statute>\n",
    "{statute}\n",
    "</statute>\n",
    "\n",
    "Now, read the following case summary:\n",
    "\n",
    "<case_summary>\n",
    "{case_summary}\n",
    "</case_summary>\n",
    "\n",
    "Before providing your final answer, please analyze the situation in detail inside <legal_interpretation> tags. Consider the facts of the case and how they relate to the language of the statute. Remember, you're approaching this as an average person, not a legal professional.\n",
    "\n",
    "In your analysis, include the following:\n",
    "1. Quote the relevant parts of the statute that define 'use' of a gun.\n",
    "2. List the key actions Mr. Smith took with the gun, according to the case summary. Number each action.\n",
    "3. Explain how an ordinary person might interpret these actions in relation to the statute.\n",
    "4. Identify any aspects of the case that might influence your interpretation.\n",
    "5. Present arguments for and against considering Mr. Smith's actions as 'use' of the gun.\n",
    "6. Form your opinion on whether a reasonable person would consider that Mr. Smith 'used' his gun in the sense that the language of the statute requires.\n",
    "\n",
    "Based on your analysis, please provide your answer in the following format:\n",
    "\n",
    "ANSWER: [Your answer (yes or no)]\n",
    "REASONING: [Your reasoning, explained in simple terms that an average person would use]\n",
    "\n",
    "Example (do not use this content in your actual response):\n",
    "\n",
    "ANSWER: Yes\n",
    "REASONING: The statute says using a gun includes pointing it at someone, and the case summary mentions that Mr. Smith pointed his gun at the cashier. As an ordinary person, I would definitely consider pointing a gun at someone as 'using' it, even if it wasn't fired. The act of pointing a gun is threatening and serves a purpose, which fits with how I understand 'use' in everyday language.\n",
    "\n",
    "Please provide your response now.\n",
    "'''\n"
   ]
  },
  {
   "cell_type": "code",
   "execution_count": 5,
   "metadata": {},
   "outputs": [],
   "source": [
    "#Creat a path to access the data\n",
    "DATAPATH = os.path.join('..', 'data')\n",
    "\n",
    "#Read the statute and case summary\n",
    "statute = open(os.path.join(DATAPATH, '18USC924c1.txt'), 'r').read()\n",
    "case_summary = open(os.path.join(DATAPATH, 'smith_case_summary.txt'), 'r').read()\n"
   ]
  },
  {
   "cell_type": "code",
   "execution_count": 9,
   "metadata": {},
   "outputs": [],
   "source": [
    "response = claude_smith(prompt)"
   ]
  },
  {
   "cell_type": "code",
   "execution_count": 11,
   "metadata": {},
   "outputs": [
    {
     "name": "stdout",
     "output_type": "stream",
     "text": [
      "<legal_interpretation>\n",
      "1. The statute doesn't explicitly define 'use', but it mentions \"uses or carries a firearm\" in relation to a crime of violence or drug trafficking.\n",
      "\n",
      "2. Key actions Mr. Smith took with the gun:\n",
      "   1. Discussed his MAC-10 firearm with a drug dealer\n",
      "   2. Promised to discuss selling the gun\n",
      "   3. Pulled the MAC-10 out of a black canvas bag\n",
      "   4. Showed it to the undercover officer\n",
      "   5. Offered to trade the MAC-10 for cocaine\n",
      "\n",
      "3. An ordinary person might interpret these actions as 'use' because Smith is actively employing the gun as part of a drug deal. He's not just carrying it; he's showing it off and trying to trade it for drugs.\n",
      "\n",
      "4. Aspects that might influence interpretation:\n",
      "   - The gun wasn't fired or used to threaten anyone directly\n",
      "   - The gun was central to the proposed drug transaction\n",
      "   - Smith was actively trying to exchange the gun for drugs\n",
      "\n",
      "5. Arguments for 'use':\n",
      "   - Smith actively used the gun as a bargaining chip in a drug deal\n",
      "   - He physically handled the gun during the crime\n",
      "   - The gun was integral to the proposed transaction\n",
      "\n",
      "   Arguments against 'use':\n",
      "   - Smith didn't fire the gun or threaten anyone with it\n",
      "   - He was trying to get rid of the gun, not use it as a weapon\n",
      "   - 'Use' might be interpreted as actively employing the gun for its intended purpose (shooting)\n",
      "\n",
      "6. In my opinion, a reasonable person would likely consider that Smith 'used' his gun in the sense the statute requires. While he didn't fire it, he actively employed it as part of a drug crime, which seems to fit the spirit of the law.\n",
      "</legal_interpretation>\n",
      "\n",
      "ANSWER: Yes\n",
      "\n",
      "REASONING: As an average person, I'd say Mr. Smith definitely 'used' the gun in this drug crime. He didn't just have it on him; he took it out, showed it off, and tried to trade it for drugs. That seems like actively using the gun to me, even if he didn't shoot it. The gun was a key part of the drug deal he was trying to make. In everyday language, if you're offering something in a trade, you're 'using' it as part of that deal. It's like if someone tried to use a fake ID to buy alcohol - they're 'using' the ID even if they don't succeed in getting the drinks. So yeah, I'd say Smith was 'using' the gun in this crime.\n"
     ]
    }
   ],
   "source": [
    "print(response)"
   ]
  },
  {
   "cell_type": "code",
   "execution_count": null,
   "metadata": {},
   "outputs": [],
   "source": []
  }
 ],
 "metadata": {
  "kernelspec": {
   "display_name": "llms_da",
   "language": "python",
   "name": "python3"
  },
  "language_info": {
   "codemirror_mode": {
    "name": "ipython",
    "version": 3
   },
   "file_extension": ".py",
   "mimetype": "text/x-python",
   "name": "python",
   "nbconvert_exporter": "python",
   "pygments_lexer": "ipython3",
   "version": "3.11.9"
  }
 },
 "nbformat": 4,
 "nbformat_minor": 2
}
